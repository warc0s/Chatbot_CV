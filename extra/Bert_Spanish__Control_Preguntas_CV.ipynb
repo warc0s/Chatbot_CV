{
  "nbformat": 4,
  "nbformat_minor": 0,
  "metadata": {
    "colab": {
      "provenance": [],
      "gpuType": "T4"
    },
    "kernelspec": {
      "name": "python3",
      "display_name": "Python 3"
    },
    "language_info": {
      "name": "python"
    },
    "accelerator": "GPU",
    "widgets": {
      "application/vnd.jupyter.widget-state+json": {
        "1816f88523e242b08adfac2a1c9a9f54": {
          "model_module": "@jupyter-widgets/controls",
          "model_name": "HBoxModel",
          "model_module_version": "1.5.0",
          "state": {
            "_dom_classes": [],
            "_model_module": "@jupyter-widgets/controls",
            "_model_module_version": "1.5.0",
            "_model_name": "HBoxModel",
            "_view_count": null,
            "_view_module": "@jupyter-widgets/controls",
            "_view_module_version": "1.5.0",
            "_view_name": "HBoxView",
            "box_style": "",
            "children": [
              "IPY_MODEL_123917e42a2c46a78232a79029d991d0",
              "IPY_MODEL_b182a75d0c0a428481764c3fe5c6e7f5",
              "IPY_MODEL_1c0afaf6f14a4af4af9ae35219fe6af0"
            ],
            "layout": "IPY_MODEL_bb507e2539d44fb8b8cd7703344010d5"
          }
        },
        "123917e42a2c46a78232a79029d991d0": {
          "model_module": "@jupyter-widgets/controls",
          "model_name": "HTMLModel",
          "model_module_version": "1.5.0",
          "state": {
            "_dom_classes": [],
            "_model_module": "@jupyter-widgets/controls",
            "_model_module_version": "1.5.0",
            "_model_name": "HTMLModel",
            "_view_count": null,
            "_view_module": "@jupyter-widgets/controls",
            "_view_module_version": "1.5.0",
            "_view_name": "HTMLView",
            "description": "",
            "description_tooltip": null,
            "layout": "IPY_MODEL_42d76c68da514e90937bb50ce35e6b7c",
            "placeholder": "​",
            "style": "IPY_MODEL_7168162026a347deb7b6cabd4eaaac61",
            "value": "tokenizer_config.json: 100%"
          }
        },
        "b182a75d0c0a428481764c3fe5c6e7f5": {
          "model_module": "@jupyter-widgets/controls",
          "model_name": "FloatProgressModel",
          "model_module_version": "1.5.0",
          "state": {
            "_dom_classes": [],
            "_model_module": "@jupyter-widgets/controls",
            "_model_module_version": "1.5.0",
            "_model_name": "FloatProgressModel",
            "_view_count": null,
            "_view_module": "@jupyter-widgets/controls",
            "_view_module_version": "1.5.0",
            "_view_name": "ProgressView",
            "bar_style": "success",
            "description": "",
            "description_tooltip": null,
            "layout": "IPY_MODEL_d1c572c6496146dab636f3c15566b57f",
            "max": 364,
            "min": 0,
            "orientation": "horizontal",
            "style": "IPY_MODEL_3d1e366f03b744449e50037959aaa7a6",
            "value": 364
          }
        },
        "1c0afaf6f14a4af4af9ae35219fe6af0": {
          "model_module": "@jupyter-widgets/controls",
          "model_name": "HTMLModel",
          "model_module_version": "1.5.0",
          "state": {
            "_dom_classes": [],
            "_model_module": "@jupyter-widgets/controls",
            "_model_module_version": "1.5.0",
            "_model_name": "HTMLModel",
            "_view_count": null,
            "_view_module": "@jupyter-widgets/controls",
            "_view_module_version": "1.5.0",
            "_view_name": "HTMLView",
            "description": "",
            "description_tooltip": null,
            "layout": "IPY_MODEL_4b60cc793ea24aada888be38b043edab",
            "placeholder": "​",
            "style": "IPY_MODEL_0f70b43d263642e1a2548783ea74f80f",
            "value": " 364/364 [00:00&lt;00:00, 9.20kB/s]"
          }
        },
        "bb507e2539d44fb8b8cd7703344010d5": {
          "model_module": "@jupyter-widgets/base",
          "model_name": "LayoutModel",
          "model_module_version": "1.2.0",
          "state": {
            "_model_module": "@jupyter-widgets/base",
            "_model_module_version": "1.2.0",
            "_model_name": "LayoutModel",
            "_view_count": null,
            "_view_module": "@jupyter-widgets/base",
            "_view_module_version": "1.2.0",
            "_view_name": "LayoutView",
            "align_content": null,
            "align_items": null,
            "align_self": null,
            "border": null,
            "bottom": null,
            "display": null,
            "flex": null,
            "flex_flow": null,
            "grid_area": null,
            "grid_auto_columns": null,
            "grid_auto_flow": null,
            "grid_auto_rows": null,
            "grid_column": null,
            "grid_gap": null,
            "grid_row": null,
            "grid_template_areas": null,
            "grid_template_columns": null,
            "grid_template_rows": null,
            "height": null,
            "justify_content": null,
            "justify_items": null,
            "left": null,
            "margin": null,
            "max_height": null,
            "max_width": null,
            "min_height": null,
            "min_width": null,
            "object_fit": null,
            "object_position": null,
            "order": null,
            "overflow": null,
            "overflow_x": null,
            "overflow_y": null,
            "padding": null,
            "right": null,
            "top": null,
            "visibility": null,
            "width": null
          }
        },
        "42d76c68da514e90937bb50ce35e6b7c": {
          "model_module": "@jupyter-widgets/base",
          "model_name": "LayoutModel",
          "model_module_version": "1.2.0",
          "state": {
            "_model_module": "@jupyter-widgets/base",
            "_model_module_version": "1.2.0",
            "_model_name": "LayoutModel",
            "_view_count": null,
            "_view_module": "@jupyter-widgets/base",
            "_view_module_version": "1.2.0",
            "_view_name": "LayoutView",
            "align_content": null,
            "align_items": null,
            "align_self": null,
            "border": null,
            "bottom": null,
            "display": null,
            "flex": null,
            "flex_flow": null,
            "grid_area": null,
            "grid_auto_columns": null,
            "grid_auto_flow": null,
            "grid_auto_rows": null,
            "grid_column": null,
            "grid_gap": null,
            "grid_row": null,
            "grid_template_areas": null,
            "grid_template_columns": null,
            "grid_template_rows": null,
            "height": null,
            "justify_content": null,
            "justify_items": null,
            "left": null,
            "margin": null,
            "max_height": null,
            "max_width": null,
            "min_height": null,
            "min_width": null,
            "object_fit": null,
            "object_position": null,
            "order": null,
            "overflow": null,
            "overflow_x": null,
            "overflow_y": null,
            "padding": null,
            "right": null,
            "top": null,
            "visibility": null,
            "width": null
          }
        },
        "7168162026a347deb7b6cabd4eaaac61": {
          "model_module": "@jupyter-widgets/controls",
          "model_name": "DescriptionStyleModel",
          "model_module_version": "1.5.0",
          "state": {
            "_model_module": "@jupyter-widgets/controls",
            "_model_module_version": "1.5.0",
            "_model_name": "DescriptionStyleModel",
            "_view_count": null,
            "_view_module": "@jupyter-widgets/base",
            "_view_module_version": "1.2.0",
            "_view_name": "StyleView",
            "description_width": ""
          }
        },
        "d1c572c6496146dab636f3c15566b57f": {
          "model_module": "@jupyter-widgets/base",
          "model_name": "LayoutModel",
          "model_module_version": "1.2.0",
          "state": {
            "_model_module": "@jupyter-widgets/base",
            "_model_module_version": "1.2.0",
            "_model_name": "LayoutModel",
            "_view_count": null,
            "_view_module": "@jupyter-widgets/base",
            "_view_module_version": "1.2.0",
            "_view_name": "LayoutView",
            "align_content": null,
            "align_items": null,
            "align_self": null,
            "border": null,
            "bottom": null,
            "display": null,
            "flex": null,
            "flex_flow": null,
            "grid_area": null,
            "grid_auto_columns": null,
            "grid_auto_flow": null,
            "grid_auto_rows": null,
            "grid_column": null,
            "grid_gap": null,
            "grid_row": null,
            "grid_template_areas": null,
            "grid_template_columns": null,
            "grid_template_rows": null,
            "height": null,
            "justify_content": null,
            "justify_items": null,
            "left": null,
            "margin": null,
            "max_height": null,
            "max_width": null,
            "min_height": null,
            "min_width": null,
            "object_fit": null,
            "object_position": null,
            "order": null,
            "overflow": null,
            "overflow_x": null,
            "overflow_y": null,
            "padding": null,
            "right": null,
            "top": null,
            "visibility": null,
            "width": null
          }
        },
        "3d1e366f03b744449e50037959aaa7a6": {
          "model_module": "@jupyter-widgets/controls",
          "model_name": "ProgressStyleModel",
          "model_module_version": "1.5.0",
          "state": {
            "_model_module": "@jupyter-widgets/controls",
            "_model_module_version": "1.5.0",
            "_model_name": "ProgressStyleModel",
            "_view_count": null,
            "_view_module": "@jupyter-widgets/base",
            "_view_module_version": "1.2.0",
            "_view_name": "StyleView",
            "bar_color": null,
            "description_width": ""
          }
        },
        "4b60cc793ea24aada888be38b043edab": {
          "model_module": "@jupyter-widgets/base",
          "model_name": "LayoutModel",
          "model_module_version": "1.2.0",
          "state": {
            "_model_module": "@jupyter-widgets/base",
            "_model_module_version": "1.2.0",
            "_model_name": "LayoutModel",
            "_view_count": null,
            "_view_module": "@jupyter-widgets/base",
            "_view_module_version": "1.2.0",
            "_view_name": "LayoutView",
            "align_content": null,
            "align_items": null,
            "align_self": null,
            "border": null,
            "bottom": null,
            "display": null,
            "flex": null,
            "flex_flow": null,
            "grid_area": null,
            "grid_auto_columns": null,
            "grid_auto_flow": null,
            "grid_auto_rows": null,
            "grid_column": null,
            "grid_gap": null,
            "grid_row": null,
            "grid_template_areas": null,
            "grid_template_columns": null,
            "grid_template_rows": null,
            "height": null,
            "justify_content": null,
            "justify_items": null,
            "left": null,
            "margin": null,
            "max_height": null,
            "max_width": null,
            "min_height": null,
            "min_width": null,
            "object_fit": null,
            "object_position": null,
            "order": null,
            "overflow": null,
            "overflow_x": null,
            "overflow_y": null,
            "padding": null,
            "right": null,
            "top": null,
            "visibility": null,
            "width": null
          }
        },
        "0f70b43d263642e1a2548783ea74f80f": {
          "model_module": "@jupyter-widgets/controls",
          "model_name": "DescriptionStyleModel",
          "model_module_version": "1.5.0",
          "state": {
            "_model_module": "@jupyter-widgets/controls",
            "_model_module_version": "1.5.0",
            "_model_name": "DescriptionStyleModel",
            "_view_count": null,
            "_view_module": "@jupyter-widgets/base",
            "_view_module_version": "1.2.0",
            "_view_name": "StyleView",
            "description_width": ""
          }
        },
        "7c055dd10dcd4953a47f900bed36970a": {
          "model_module": "@jupyter-widgets/controls",
          "model_name": "HBoxModel",
          "model_module_version": "1.5.0",
          "state": {
            "_dom_classes": [],
            "_model_module": "@jupyter-widgets/controls",
            "_model_module_version": "1.5.0",
            "_model_name": "HBoxModel",
            "_view_count": null,
            "_view_module": "@jupyter-widgets/controls",
            "_view_module_version": "1.5.0",
            "_view_name": "HBoxView",
            "box_style": "",
            "children": [
              "IPY_MODEL_cc00e4405f464e3ab4c0ee8dc95aa16e",
              "IPY_MODEL_b429b58a2533447190715ad090ee0fa6",
              "IPY_MODEL_81771377b718473ca37a3124e49fa1a9"
            ],
            "layout": "IPY_MODEL_ec2f32a3ce4149c88f96994aaac26eeb"
          }
        },
        "cc00e4405f464e3ab4c0ee8dc95aa16e": {
          "model_module": "@jupyter-widgets/controls",
          "model_name": "HTMLModel",
          "model_module_version": "1.5.0",
          "state": {
            "_dom_classes": [],
            "_model_module": "@jupyter-widgets/controls",
            "_model_module_version": "1.5.0",
            "_model_name": "HTMLModel",
            "_view_count": null,
            "_view_module": "@jupyter-widgets/controls",
            "_view_module_version": "1.5.0",
            "_view_name": "HTMLView",
            "description": "",
            "description_tooltip": null,
            "layout": "IPY_MODEL_3e7409b9ec3c4d61ac56d5aae075bb64",
            "placeholder": "​",
            "style": "IPY_MODEL_281b5ce16a654dcf8592fdef26016fe3",
            "value": "vocab.txt: 100%"
          }
        },
        "b429b58a2533447190715ad090ee0fa6": {
          "model_module": "@jupyter-widgets/controls",
          "model_name": "FloatProgressModel",
          "model_module_version": "1.5.0",
          "state": {
            "_dom_classes": [],
            "_model_module": "@jupyter-widgets/controls",
            "_model_module_version": "1.5.0",
            "_model_name": "FloatProgressModel",
            "_view_count": null,
            "_view_module": "@jupyter-widgets/controls",
            "_view_module_version": "1.5.0",
            "_view_name": "ProgressView",
            "bar_style": "success",
            "description": "",
            "description_tooltip": null,
            "layout": "IPY_MODEL_c5b8e04a8e08475e84c416077f02d754",
            "max": 241796,
            "min": 0,
            "orientation": "horizontal",
            "style": "IPY_MODEL_4fccc3699b8e40089da37e64b96fe99a",
            "value": 241796
          }
        },
        "81771377b718473ca37a3124e49fa1a9": {
          "model_module": "@jupyter-widgets/controls",
          "model_name": "HTMLModel",
          "model_module_version": "1.5.0",
          "state": {
            "_dom_classes": [],
            "_model_module": "@jupyter-widgets/controls",
            "_model_module_version": "1.5.0",
            "_model_name": "HTMLModel",
            "_view_count": null,
            "_view_module": "@jupyter-widgets/controls",
            "_view_module_version": "1.5.0",
            "_view_name": "HTMLView",
            "description": "",
            "description_tooltip": null,
            "layout": "IPY_MODEL_535d6b0093574b839565c58e82a84b67",
            "placeholder": "​",
            "style": "IPY_MODEL_804c8f655ecb4911b889e52dc50aac77",
            "value": " 242k/242k [00:00&lt;00:00, 1.93MB/s]"
          }
        },
        "ec2f32a3ce4149c88f96994aaac26eeb": {
          "model_module": "@jupyter-widgets/base",
          "model_name": "LayoutModel",
          "model_module_version": "1.2.0",
          "state": {
            "_model_module": "@jupyter-widgets/base",
            "_model_module_version": "1.2.0",
            "_model_name": "LayoutModel",
            "_view_count": null,
            "_view_module": "@jupyter-widgets/base",
            "_view_module_version": "1.2.0",
            "_view_name": "LayoutView",
            "align_content": null,
            "align_items": null,
            "align_self": null,
            "border": null,
            "bottom": null,
            "display": null,
            "flex": null,
            "flex_flow": null,
            "grid_area": null,
            "grid_auto_columns": null,
            "grid_auto_flow": null,
            "grid_auto_rows": null,
            "grid_column": null,
            "grid_gap": null,
            "grid_row": null,
            "grid_template_areas": null,
            "grid_template_columns": null,
            "grid_template_rows": null,
            "height": null,
            "justify_content": null,
            "justify_items": null,
            "left": null,
            "margin": null,
            "max_height": null,
            "max_width": null,
            "min_height": null,
            "min_width": null,
            "object_fit": null,
            "object_position": null,
            "order": null,
            "overflow": null,
            "overflow_x": null,
            "overflow_y": null,
            "padding": null,
            "right": null,
            "top": null,
            "visibility": null,
            "width": null
          }
        },
        "3e7409b9ec3c4d61ac56d5aae075bb64": {
          "model_module": "@jupyter-widgets/base",
          "model_name": "LayoutModel",
          "model_module_version": "1.2.0",
          "state": {
            "_model_module": "@jupyter-widgets/base",
            "_model_module_version": "1.2.0",
            "_model_name": "LayoutModel",
            "_view_count": null,
            "_view_module": "@jupyter-widgets/base",
            "_view_module_version": "1.2.0",
            "_view_name": "LayoutView",
            "align_content": null,
            "align_items": null,
            "align_self": null,
            "border": null,
            "bottom": null,
            "display": null,
            "flex": null,
            "flex_flow": null,
            "grid_area": null,
            "grid_auto_columns": null,
            "grid_auto_flow": null,
            "grid_auto_rows": null,
            "grid_column": null,
            "grid_gap": null,
            "grid_row": null,
            "grid_template_areas": null,
            "grid_template_columns": null,
            "grid_template_rows": null,
            "height": null,
            "justify_content": null,
            "justify_items": null,
            "left": null,
            "margin": null,
            "max_height": null,
            "max_width": null,
            "min_height": null,
            "min_width": null,
            "object_fit": null,
            "object_position": null,
            "order": null,
            "overflow": null,
            "overflow_x": null,
            "overflow_y": null,
            "padding": null,
            "right": null,
            "top": null,
            "visibility": null,
            "width": null
          }
        },
        "281b5ce16a654dcf8592fdef26016fe3": {
          "model_module": "@jupyter-widgets/controls",
          "model_name": "DescriptionStyleModel",
          "model_module_version": "1.5.0",
          "state": {
            "_model_module": "@jupyter-widgets/controls",
            "_model_module_version": "1.5.0",
            "_model_name": "DescriptionStyleModel",
            "_view_count": null,
            "_view_module": "@jupyter-widgets/base",
            "_view_module_version": "1.2.0",
            "_view_name": "StyleView",
            "description_width": ""
          }
        },
        "c5b8e04a8e08475e84c416077f02d754": {
          "model_module": "@jupyter-widgets/base",
          "model_name": "LayoutModel",
          "model_module_version": "1.2.0",
          "state": {
            "_model_module": "@jupyter-widgets/base",
            "_model_module_version": "1.2.0",
            "_model_name": "LayoutModel",
            "_view_count": null,
            "_view_module": "@jupyter-widgets/base",
            "_view_module_version": "1.2.0",
            "_view_name": "LayoutView",
            "align_content": null,
            "align_items": null,
            "align_self": null,
            "border": null,
            "bottom": null,
            "display": null,
            "flex": null,
            "flex_flow": null,
            "grid_area": null,
            "grid_auto_columns": null,
            "grid_auto_flow": null,
            "grid_auto_rows": null,
            "grid_column": null,
            "grid_gap": null,
            "grid_row": null,
            "grid_template_areas": null,
            "grid_template_columns": null,
            "grid_template_rows": null,
            "height": null,
            "justify_content": null,
            "justify_items": null,
            "left": null,
            "margin": null,
            "max_height": null,
            "max_width": null,
            "min_height": null,
            "min_width": null,
            "object_fit": null,
            "object_position": null,
            "order": null,
            "overflow": null,
            "overflow_x": null,
            "overflow_y": null,
            "padding": null,
            "right": null,
            "top": null,
            "visibility": null,
            "width": null
          }
        },
        "4fccc3699b8e40089da37e64b96fe99a": {
          "model_module": "@jupyter-widgets/controls",
          "model_name": "ProgressStyleModel",
          "model_module_version": "1.5.0",
          "state": {
            "_model_module": "@jupyter-widgets/controls",
            "_model_module_version": "1.5.0",
            "_model_name": "ProgressStyleModel",
            "_view_count": null,
            "_view_module": "@jupyter-widgets/base",
            "_view_module_version": "1.2.0",
            "_view_name": "StyleView",
            "bar_color": null,
            "description_width": ""
          }
        },
        "535d6b0093574b839565c58e82a84b67": {
          "model_module": "@jupyter-widgets/base",
          "model_name": "LayoutModel",
          "model_module_version": "1.2.0",
          "state": {
            "_model_module": "@jupyter-widgets/base",
            "_model_module_version": "1.2.0",
            "_model_name": "LayoutModel",
            "_view_count": null,
            "_view_module": "@jupyter-widgets/base",
            "_view_module_version": "1.2.0",
            "_view_name": "LayoutView",
            "align_content": null,
            "align_items": null,
            "align_self": null,
            "border": null,
            "bottom": null,
            "display": null,
            "flex": null,
            "flex_flow": null,
            "grid_area": null,
            "grid_auto_columns": null,
            "grid_auto_flow": null,
            "grid_auto_rows": null,
            "grid_column": null,
            "grid_gap": null,
            "grid_row": null,
            "grid_template_areas": null,
            "grid_template_columns": null,
            "grid_template_rows": null,
            "height": null,
            "justify_content": null,
            "justify_items": null,
            "left": null,
            "margin": null,
            "max_height": null,
            "max_width": null,
            "min_height": null,
            "min_width": null,
            "object_fit": null,
            "object_position": null,
            "order": null,
            "overflow": null,
            "overflow_x": null,
            "overflow_y": null,
            "padding": null,
            "right": null,
            "top": null,
            "visibility": null,
            "width": null
          }
        },
        "804c8f655ecb4911b889e52dc50aac77": {
          "model_module": "@jupyter-widgets/controls",
          "model_name": "DescriptionStyleModel",
          "model_module_version": "1.5.0",
          "state": {
            "_model_module": "@jupyter-widgets/controls",
            "_model_module_version": "1.5.0",
            "_model_name": "DescriptionStyleModel",
            "_view_count": null,
            "_view_module": "@jupyter-widgets/base",
            "_view_module_version": "1.2.0",
            "_view_name": "StyleView",
            "description_width": ""
          }
        },
        "b6b72d55b24043c085ff00d4ba1cd58d": {
          "model_module": "@jupyter-widgets/controls",
          "model_name": "HBoxModel",
          "model_module_version": "1.5.0",
          "state": {
            "_dom_classes": [],
            "_model_module": "@jupyter-widgets/controls",
            "_model_module_version": "1.5.0",
            "_model_name": "HBoxModel",
            "_view_count": null,
            "_view_module": "@jupyter-widgets/controls",
            "_view_module_version": "1.5.0",
            "_view_name": "HBoxView",
            "box_style": "",
            "children": [
              "IPY_MODEL_0ce8b2d398dd4b39ae3171cec7f89af3",
              "IPY_MODEL_9ccc28ca2d764c83854e4c9a03415b91",
              "IPY_MODEL_483a4bb260e24b43b154b493db489320"
            ],
            "layout": "IPY_MODEL_288c875d1e96483897bd8bf2b60c533c"
          }
        },
        "0ce8b2d398dd4b39ae3171cec7f89af3": {
          "model_module": "@jupyter-widgets/controls",
          "model_name": "HTMLModel",
          "model_module_version": "1.5.0",
          "state": {
            "_dom_classes": [],
            "_model_module": "@jupyter-widgets/controls",
            "_model_module_version": "1.5.0",
            "_model_name": "HTMLModel",
            "_view_count": null,
            "_view_module": "@jupyter-widgets/controls",
            "_view_module_version": "1.5.0",
            "_view_name": "HTMLView",
            "description": "",
            "description_tooltip": null,
            "layout": "IPY_MODEL_250c148dc0444fc794d6dce466994e54",
            "placeholder": "​",
            "style": "IPY_MODEL_e7f37eb78bf64bfd9bb120483761c1ed",
            "value": "special_tokens_map.json: 100%"
          }
        },
        "9ccc28ca2d764c83854e4c9a03415b91": {
          "model_module": "@jupyter-widgets/controls",
          "model_name": "FloatProgressModel",
          "model_module_version": "1.5.0",
          "state": {
            "_dom_classes": [],
            "_model_module": "@jupyter-widgets/controls",
            "_model_module_version": "1.5.0",
            "_model_name": "FloatProgressModel",
            "_view_count": null,
            "_view_module": "@jupyter-widgets/controls",
            "_view_module_version": "1.5.0",
            "_view_name": "ProgressView",
            "bar_style": "success",
            "description": "",
            "description_tooltip": null,
            "layout": "IPY_MODEL_5965f0b41a364efab37dba0298fe89a4",
            "max": 134,
            "min": 0,
            "orientation": "horizontal",
            "style": "IPY_MODEL_40dc2f611c41482dbb2ed4d29deb3bee",
            "value": 134
          }
        },
        "483a4bb260e24b43b154b493db489320": {
          "model_module": "@jupyter-widgets/controls",
          "model_name": "HTMLModel",
          "model_module_version": "1.5.0",
          "state": {
            "_dom_classes": [],
            "_model_module": "@jupyter-widgets/controls",
            "_model_module_version": "1.5.0",
            "_model_name": "HTMLModel",
            "_view_count": null,
            "_view_module": "@jupyter-widgets/controls",
            "_view_module_version": "1.5.0",
            "_view_name": "HTMLView",
            "description": "",
            "description_tooltip": null,
            "layout": "IPY_MODEL_f78ff27895df4e87bf9e71b6c6485d32",
            "placeholder": "​",
            "style": "IPY_MODEL_33c96f09f62e4ae2b6394fb8165330b5",
            "value": " 134/134 [00:00&lt;00:00, 3.96kB/s]"
          }
        },
        "288c875d1e96483897bd8bf2b60c533c": {
          "model_module": "@jupyter-widgets/base",
          "model_name": "LayoutModel",
          "model_module_version": "1.2.0",
          "state": {
            "_model_module": "@jupyter-widgets/base",
            "_model_module_version": "1.2.0",
            "_model_name": "LayoutModel",
            "_view_count": null,
            "_view_module": "@jupyter-widgets/base",
            "_view_module_version": "1.2.0",
            "_view_name": "LayoutView",
            "align_content": null,
            "align_items": null,
            "align_self": null,
            "border": null,
            "bottom": null,
            "display": null,
            "flex": null,
            "flex_flow": null,
            "grid_area": null,
            "grid_auto_columns": null,
            "grid_auto_flow": null,
            "grid_auto_rows": null,
            "grid_column": null,
            "grid_gap": null,
            "grid_row": null,
            "grid_template_areas": null,
            "grid_template_columns": null,
            "grid_template_rows": null,
            "height": null,
            "justify_content": null,
            "justify_items": null,
            "left": null,
            "margin": null,
            "max_height": null,
            "max_width": null,
            "min_height": null,
            "min_width": null,
            "object_fit": null,
            "object_position": null,
            "order": null,
            "overflow": null,
            "overflow_x": null,
            "overflow_y": null,
            "padding": null,
            "right": null,
            "top": null,
            "visibility": null,
            "width": null
          }
        },
        "250c148dc0444fc794d6dce466994e54": {
          "model_module": "@jupyter-widgets/base",
          "model_name": "LayoutModel",
          "model_module_version": "1.2.0",
          "state": {
            "_model_module": "@jupyter-widgets/base",
            "_model_module_version": "1.2.0",
            "_model_name": "LayoutModel",
            "_view_count": null,
            "_view_module": "@jupyter-widgets/base",
            "_view_module_version": "1.2.0",
            "_view_name": "LayoutView",
            "align_content": null,
            "align_items": null,
            "align_self": null,
            "border": null,
            "bottom": null,
            "display": null,
            "flex": null,
            "flex_flow": null,
            "grid_area": null,
            "grid_auto_columns": null,
            "grid_auto_flow": null,
            "grid_auto_rows": null,
            "grid_column": null,
            "grid_gap": null,
            "grid_row": null,
            "grid_template_areas": null,
            "grid_template_columns": null,
            "grid_template_rows": null,
            "height": null,
            "justify_content": null,
            "justify_items": null,
            "left": null,
            "margin": null,
            "max_height": null,
            "max_width": null,
            "min_height": null,
            "min_width": null,
            "object_fit": null,
            "object_position": null,
            "order": null,
            "overflow": null,
            "overflow_x": null,
            "overflow_y": null,
            "padding": null,
            "right": null,
            "top": null,
            "visibility": null,
            "width": null
          }
        },
        "e7f37eb78bf64bfd9bb120483761c1ed": {
          "model_module": "@jupyter-widgets/controls",
          "model_name": "DescriptionStyleModel",
          "model_module_version": "1.5.0",
          "state": {
            "_model_module": "@jupyter-widgets/controls",
            "_model_module_version": "1.5.0",
            "_model_name": "DescriptionStyleModel",
            "_view_count": null,
            "_view_module": "@jupyter-widgets/base",
            "_view_module_version": "1.2.0",
            "_view_name": "StyleView",
            "description_width": ""
          }
        },
        "5965f0b41a364efab37dba0298fe89a4": {
          "model_module": "@jupyter-widgets/base",
          "model_name": "LayoutModel",
          "model_module_version": "1.2.0",
          "state": {
            "_model_module": "@jupyter-widgets/base",
            "_model_module_version": "1.2.0",
            "_model_name": "LayoutModel",
            "_view_count": null,
            "_view_module": "@jupyter-widgets/base",
            "_view_module_version": "1.2.0",
            "_view_name": "LayoutView",
            "align_content": null,
            "align_items": null,
            "align_self": null,
            "border": null,
            "bottom": null,
            "display": null,
            "flex": null,
            "flex_flow": null,
            "grid_area": null,
            "grid_auto_columns": null,
            "grid_auto_flow": null,
            "grid_auto_rows": null,
            "grid_column": null,
            "grid_gap": null,
            "grid_row": null,
            "grid_template_areas": null,
            "grid_template_columns": null,
            "grid_template_rows": null,
            "height": null,
            "justify_content": null,
            "justify_items": null,
            "left": null,
            "margin": null,
            "max_height": null,
            "max_width": null,
            "min_height": null,
            "min_width": null,
            "object_fit": null,
            "object_position": null,
            "order": null,
            "overflow": null,
            "overflow_x": null,
            "overflow_y": null,
            "padding": null,
            "right": null,
            "top": null,
            "visibility": null,
            "width": null
          }
        },
        "40dc2f611c41482dbb2ed4d29deb3bee": {
          "model_module": "@jupyter-widgets/controls",
          "model_name": "ProgressStyleModel",
          "model_module_version": "1.5.0",
          "state": {
            "_model_module": "@jupyter-widgets/controls",
            "_model_module_version": "1.5.0",
            "_model_name": "ProgressStyleModel",
            "_view_count": null,
            "_view_module": "@jupyter-widgets/base",
            "_view_module_version": "1.2.0",
            "_view_name": "StyleView",
            "bar_color": null,
            "description_width": ""
          }
        },
        "f78ff27895df4e87bf9e71b6c6485d32": {
          "model_module": "@jupyter-widgets/base",
          "model_name": "LayoutModel",
          "model_module_version": "1.2.0",
          "state": {
            "_model_module": "@jupyter-widgets/base",
            "_model_module_version": "1.2.0",
            "_model_name": "LayoutModel",
            "_view_count": null,
            "_view_module": "@jupyter-widgets/base",
            "_view_module_version": "1.2.0",
            "_view_name": "LayoutView",
            "align_content": null,
            "align_items": null,
            "align_self": null,
            "border": null,
            "bottom": null,
            "display": null,
            "flex": null,
            "flex_flow": null,
            "grid_area": null,
            "grid_auto_columns": null,
            "grid_auto_flow": null,
            "grid_auto_rows": null,
            "grid_column": null,
            "grid_gap": null,
            "grid_row": null,
            "grid_template_areas": null,
            "grid_template_columns": null,
            "grid_template_rows": null,
            "height": null,
            "justify_content": null,
            "justify_items": null,
            "left": null,
            "margin": null,
            "max_height": null,
            "max_width": null,
            "min_height": null,
            "min_width": null,
            "object_fit": null,
            "object_position": null,
            "order": null,
            "overflow": null,
            "overflow_x": null,
            "overflow_y": null,
            "padding": null,
            "right": null,
            "top": null,
            "visibility": null,
            "width": null
          }
        },
        "33c96f09f62e4ae2b6394fb8165330b5": {
          "model_module": "@jupyter-widgets/controls",
          "model_name": "DescriptionStyleModel",
          "model_module_version": "1.5.0",
          "state": {
            "_model_module": "@jupyter-widgets/controls",
            "_model_module_version": "1.5.0",
            "_model_name": "DescriptionStyleModel",
            "_view_count": null,
            "_view_module": "@jupyter-widgets/base",
            "_view_module_version": "1.2.0",
            "_view_name": "StyleView",
            "description_width": ""
          }
        },
        "c1b64ea7e0134b85a8313292180bd0b8": {
          "model_module": "@jupyter-widgets/controls",
          "model_name": "HBoxModel",
          "model_module_version": "1.5.0",
          "state": {
            "_dom_classes": [],
            "_model_module": "@jupyter-widgets/controls",
            "_model_module_version": "1.5.0",
            "_model_name": "HBoxModel",
            "_view_count": null,
            "_view_module": "@jupyter-widgets/controls",
            "_view_module_version": "1.5.0",
            "_view_name": "HBoxView",
            "box_style": "",
            "children": [
              "IPY_MODEL_e0dd912a4f044cda8f076b66593e3ebf",
              "IPY_MODEL_bcda2a52c4a548008d8f510fafaa9701",
              "IPY_MODEL_37d8c40f41494f48aff64932339de354"
            ],
            "layout": "IPY_MODEL_8b052154787e4ef0ae1a7aae69a24c12"
          }
        },
        "e0dd912a4f044cda8f076b66593e3ebf": {
          "model_module": "@jupyter-widgets/controls",
          "model_name": "HTMLModel",
          "model_module_version": "1.5.0",
          "state": {
            "_dom_classes": [],
            "_model_module": "@jupyter-widgets/controls",
            "_model_module_version": "1.5.0",
            "_model_name": "HTMLModel",
            "_view_count": null,
            "_view_module": "@jupyter-widgets/controls",
            "_view_module_version": "1.5.0",
            "_view_name": "HTMLView",
            "description": "",
            "description_tooltip": null,
            "layout": "IPY_MODEL_ca13dfd6b3e94fcfb36099cae35e2546",
            "placeholder": "​",
            "style": "IPY_MODEL_a3a1add416054a3090698e7014a2379a",
            "value": "tokenizer.json: 100%"
          }
        },
        "bcda2a52c4a548008d8f510fafaa9701": {
          "model_module": "@jupyter-widgets/controls",
          "model_name": "FloatProgressModel",
          "model_module_version": "1.5.0",
          "state": {
            "_dom_classes": [],
            "_model_module": "@jupyter-widgets/controls",
            "_model_module_version": "1.5.0",
            "_model_name": "FloatProgressModel",
            "_view_count": null,
            "_view_module": "@jupyter-widgets/controls",
            "_view_module_version": "1.5.0",
            "_view_name": "ProgressView",
            "bar_style": "success",
            "description": "",
            "description_tooltip": null,
            "layout": "IPY_MODEL_13151ac822ab4006bf70707b162bf20c",
            "max": 480199,
            "min": 0,
            "orientation": "horizontal",
            "style": "IPY_MODEL_a66a69ae1b7d42cab19e29b2862289a2",
            "value": 480199
          }
        },
        "37d8c40f41494f48aff64932339de354": {
          "model_module": "@jupyter-widgets/controls",
          "model_name": "HTMLModel",
          "model_module_version": "1.5.0",
          "state": {
            "_dom_classes": [],
            "_model_module": "@jupyter-widgets/controls",
            "_model_module_version": "1.5.0",
            "_model_name": "HTMLModel",
            "_view_count": null,
            "_view_module": "@jupyter-widgets/controls",
            "_view_module_version": "1.5.0",
            "_view_name": "HTMLView",
            "description": "",
            "description_tooltip": null,
            "layout": "IPY_MODEL_3851dd7b264d46d08645dd56143b934f",
            "placeholder": "​",
            "style": "IPY_MODEL_d6db91b7f3df4c2ca5d281bd234402c5",
            "value": " 480k/480k [00:00&lt;00:00, 16.8MB/s]"
          }
        },
        "8b052154787e4ef0ae1a7aae69a24c12": {
          "model_module": "@jupyter-widgets/base",
          "model_name": "LayoutModel",
          "model_module_version": "1.2.0",
          "state": {
            "_model_module": "@jupyter-widgets/base",
            "_model_module_version": "1.2.0",
            "_model_name": "LayoutModel",
            "_view_count": null,
            "_view_module": "@jupyter-widgets/base",
            "_view_module_version": "1.2.0",
            "_view_name": "LayoutView",
            "align_content": null,
            "align_items": null,
            "align_self": null,
            "border": null,
            "bottom": null,
            "display": null,
            "flex": null,
            "flex_flow": null,
            "grid_area": null,
            "grid_auto_columns": null,
            "grid_auto_flow": null,
            "grid_auto_rows": null,
            "grid_column": null,
            "grid_gap": null,
            "grid_row": null,
            "grid_template_areas": null,
            "grid_template_columns": null,
            "grid_template_rows": null,
            "height": null,
            "justify_content": null,
            "justify_items": null,
            "left": null,
            "margin": null,
            "max_height": null,
            "max_width": null,
            "min_height": null,
            "min_width": null,
            "object_fit": null,
            "object_position": null,
            "order": null,
            "overflow": null,
            "overflow_x": null,
            "overflow_y": null,
            "padding": null,
            "right": null,
            "top": null,
            "visibility": null,
            "width": null
          }
        },
        "ca13dfd6b3e94fcfb36099cae35e2546": {
          "model_module": "@jupyter-widgets/base",
          "model_name": "LayoutModel",
          "model_module_version": "1.2.0",
          "state": {
            "_model_module": "@jupyter-widgets/base",
            "_model_module_version": "1.2.0",
            "_model_name": "LayoutModel",
            "_view_count": null,
            "_view_module": "@jupyter-widgets/base",
            "_view_module_version": "1.2.0",
            "_view_name": "LayoutView",
            "align_content": null,
            "align_items": null,
            "align_self": null,
            "border": null,
            "bottom": null,
            "display": null,
            "flex": null,
            "flex_flow": null,
            "grid_area": null,
            "grid_auto_columns": null,
            "grid_auto_flow": null,
            "grid_auto_rows": null,
            "grid_column": null,
            "grid_gap": null,
            "grid_row": null,
            "grid_template_areas": null,
            "grid_template_columns": null,
            "grid_template_rows": null,
            "height": null,
            "justify_content": null,
            "justify_items": null,
            "left": null,
            "margin": null,
            "max_height": null,
            "max_width": null,
            "min_height": null,
            "min_width": null,
            "object_fit": null,
            "object_position": null,
            "order": null,
            "overflow": null,
            "overflow_x": null,
            "overflow_y": null,
            "padding": null,
            "right": null,
            "top": null,
            "visibility": null,
            "width": null
          }
        },
        "a3a1add416054a3090698e7014a2379a": {
          "model_module": "@jupyter-widgets/controls",
          "model_name": "DescriptionStyleModel",
          "model_module_version": "1.5.0",
          "state": {
            "_model_module": "@jupyter-widgets/controls",
            "_model_module_version": "1.5.0",
            "_model_name": "DescriptionStyleModel",
            "_view_count": null,
            "_view_module": "@jupyter-widgets/base",
            "_view_module_version": "1.2.0",
            "_view_name": "StyleView",
            "description_width": ""
          }
        },
        "13151ac822ab4006bf70707b162bf20c": {
          "model_module": "@jupyter-widgets/base",
          "model_name": "LayoutModel",
          "model_module_version": "1.2.0",
          "state": {
            "_model_module": "@jupyter-widgets/base",
            "_model_module_version": "1.2.0",
            "_model_name": "LayoutModel",
            "_view_count": null,
            "_view_module": "@jupyter-widgets/base",
            "_view_module_version": "1.2.0",
            "_view_name": "LayoutView",
            "align_content": null,
            "align_items": null,
            "align_self": null,
            "border": null,
            "bottom": null,
            "display": null,
            "flex": null,
            "flex_flow": null,
            "grid_area": null,
            "grid_auto_columns": null,
            "grid_auto_flow": null,
            "grid_auto_rows": null,
            "grid_column": null,
            "grid_gap": null,
            "grid_row": null,
            "grid_template_areas": null,
            "grid_template_columns": null,
            "grid_template_rows": null,
            "height": null,
            "justify_content": null,
            "justify_items": null,
            "left": null,
            "margin": null,
            "max_height": null,
            "max_width": null,
            "min_height": null,
            "min_width": null,
            "object_fit": null,
            "object_position": null,
            "order": null,
            "overflow": null,
            "overflow_x": null,
            "overflow_y": null,
            "padding": null,
            "right": null,
            "top": null,
            "visibility": null,
            "width": null
          }
        },
        "a66a69ae1b7d42cab19e29b2862289a2": {
          "model_module": "@jupyter-widgets/controls",
          "model_name": "ProgressStyleModel",
          "model_module_version": "1.5.0",
          "state": {
            "_model_module": "@jupyter-widgets/controls",
            "_model_module_version": "1.5.0",
            "_model_name": "ProgressStyleModel",
            "_view_count": null,
            "_view_module": "@jupyter-widgets/base",
            "_view_module_version": "1.2.0",
            "_view_name": "StyleView",
            "bar_color": null,
            "description_width": ""
          }
        },
        "3851dd7b264d46d08645dd56143b934f": {
          "model_module": "@jupyter-widgets/base",
          "model_name": "LayoutModel",
          "model_module_version": "1.2.0",
          "state": {
            "_model_module": "@jupyter-widgets/base",
            "_model_module_version": "1.2.0",
            "_model_name": "LayoutModel",
            "_view_count": null,
            "_view_module": "@jupyter-widgets/base",
            "_view_module_version": "1.2.0",
            "_view_name": "LayoutView",
            "align_content": null,
            "align_items": null,
            "align_self": null,
            "border": null,
            "bottom": null,
            "display": null,
            "flex": null,
            "flex_flow": null,
            "grid_area": null,
            "grid_auto_columns": null,
            "grid_auto_flow": null,
            "grid_auto_rows": null,
            "grid_column": null,
            "grid_gap": null,
            "grid_row": null,
            "grid_template_areas": null,
            "grid_template_columns": null,
            "grid_template_rows": null,
            "height": null,
            "justify_content": null,
            "justify_items": null,
            "left": null,
            "margin": null,
            "max_height": null,
            "max_width": null,
            "min_height": null,
            "min_width": null,
            "object_fit": null,
            "object_position": null,
            "order": null,
            "overflow": null,
            "overflow_x": null,
            "overflow_y": null,
            "padding": null,
            "right": null,
            "top": null,
            "visibility": null,
            "width": null
          }
        },
        "d6db91b7f3df4c2ca5d281bd234402c5": {
          "model_module": "@jupyter-widgets/controls",
          "model_name": "DescriptionStyleModel",
          "model_module_version": "1.5.0",
          "state": {
            "_model_module": "@jupyter-widgets/controls",
            "_model_module_version": "1.5.0",
            "_model_name": "DescriptionStyleModel",
            "_view_count": null,
            "_view_module": "@jupyter-widgets/base",
            "_view_module_version": "1.2.0",
            "_view_name": "StyleView",
            "description_width": ""
          }
        },
        "9200766812914aefaf1da8031e5e4ba8": {
          "model_module": "@jupyter-widgets/controls",
          "model_name": "HBoxModel",
          "model_module_version": "1.5.0",
          "state": {
            "_dom_classes": [],
            "_model_module": "@jupyter-widgets/controls",
            "_model_module_version": "1.5.0",
            "_model_name": "HBoxModel",
            "_view_count": null,
            "_view_module": "@jupyter-widgets/controls",
            "_view_module_version": "1.5.0",
            "_view_name": "HBoxView",
            "box_style": "",
            "children": [
              "IPY_MODEL_43221310d306496189608b9ca46ef199",
              "IPY_MODEL_84e9284583e14c07a26bd40c1b2b05cb",
              "IPY_MODEL_4ba9b0afeb294363a8536273454b7ec9"
            ],
            "layout": "IPY_MODEL_cae094c02e1d4f849968b8c41db3e4fa"
          }
        },
        "43221310d306496189608b9ca46ef199": {
          "model_module": "@jupyter-widgets/controls",
          "model_name": "HTMLModel",
          "model_module_version": "1.5.0",
          "state": {
            "_dom_classes": [],
            "_model_module": "@jupyter-widgets/controls",
            "_model_module_version": "1.5.0",
            "_model_name": "HTMLModel",
            "_view_count": null,
            "_view_module": "@jupyter-widgets/controls",
            "_view_module_version": "1.5.0",
            "_view_name": "HTMLView",
            "description": "",
            "description_tooltip": null,
            "layout": "IPY_MODEL_3b42914ebb8146939810c996b89106a8",
            "placeholder": "​",
            "style": "IPY_MODEL_1d92388b789c4694ac45c79f4cd687d4",
            "value": "config.json: 100%"
          }
        },
        "84e9284583e14c07a26bd40c1b2b05cb": {
          "model_module": "@jupyter-widgets/controls",
          "model_name": "FloatProgressModel",
          "model_module_version": "1.5.0",
          "state": {
            "_dom_classes": [],
            "_model_module": "@jupyter-widgets/controls",
            "_model_module_version": "1.5.0",
            "_model_name": "FloatProgressModel",
            "_view_count": null,
            "_view_module": "@jupyter-widgets/controls",
            "_view_module_version": "1.5.0",
            "_view_name": "ProgressView",
            "bar_style": "success",
            "description": "",
            "description_tooltip": null,
            "layout": "IPY_MODEL_f54d3cc77db54072981b3e8535d4ab89",
            "max": 648,
            "min": 0,
            "orientation": "horizontal",
            "style": "IPY_MODEL_4250b33414a648059388f1c357fc82de",
            "value": 648
          }
        },
        "4ba9b0afeb294363a8536273454b7ec9": {
          "model_module": "@jupyter-widgets/controls",
          "model_name": "HTMLModel",
          "model_module_version": "1.5.0",
          "state": {
            "_dom_classes": [],
            "_model_module": "@jupyter-widgets/controls",
            "_model_module_version": "1.5.0",
            "_model_name": "HTMLModel",
            "_view_count": null,
            "_view_module": "@jupyter-widgets/controls",
            "_view_module_version": "1.5.0",
            "_view_name": "HTMLView",
            "description": "",
            "description_tooltip": null,
            "layout": "IPY_MODEL_4f846aa8899d4b14ba170720b713fd84",
            "placeholder": "​",
            "style": "IPY_MODEL_6b73c8fa102a43ebb0472aa80f4f6a5e",
            "value": " 648/648 [00:00&lt;00:00, 34.5kB/s]"
          }
        },
        "cae094c02e1d4f849968b8c41db3e4fa": {
          "model_module": "@jupyter-widgets/base",
          "model_name": "LayoutModel",
          "model_module_version": "1.2.0",
          "state": {
            "_model_module": "@jupyter-widgets/base",
            "_model_module_version": "1.2.0",
            "_model_name": "LayoutModel",
            "_view_count": null,
            "_view_module": "@jupyter-widgets/base",
            "_view_module_version": "1.2.0",
            "_view_name": "LayoutView",
            "align_content": null,
            "align_items": null,
            "align_self": null,
            "border": null,
            "bottom": null,
            "display": null,
            "flex": null,
            "flex_flow": null,
            "grid_area": null,
            "grid_auto_columns": null,
            "grid_auto_flow": null,
            "grid_auto_rows": null,
            "grid_column": null,
            "grid_gap": null,
            "grid_row": null,
            "grid_template_areas": null,
            "grid_template_columns": null,
            "grid_template_rows": null,
            "height": null,
            "justify_content": null,
            "justify_items": null,
            "left": null,
            "margin": null,
            "max_height": null,
            "max_width": null,
            "min_height": null,
            "min_width": null,
            "object_fit": null,
            "object_position": null,
            "order": null,
            "overflow": null,
            "overflow_x": null,
            "overflow_y": null,
            "padding": null,
            "right": null,
            "top": null,
            "visibility": null,
            "width": null
          }
        },
        "3b42914ebb8146939810c996b89106a8": {
          "model_module": "@jupyter-widgets/base",
          "model_name": "LayoutModel",
          "model_module_version": "1.2.0",
          "state": {
            "_model_module": "@jupyter-widgets/base",
            "_model_module_version": "1.2.0",
            "_model_name": "LayoutModel",
            "_view_count": null,
            "_view_module": "@jupyter-widgets/base",
            "_view_module_version": "1.2.0",
            "_view_name": "LayoutView",
            "align_content": null,
            "align_items": null,
            "align_self": null,
            "border": null,
            "bottom": null,
            "display": null,
            "flex": null,
            "flex_flow": null,
            "grid_area": null,
            "grid_auto_columns": null,
            "grid_auto_flow": null,
            "grid_auto_rows": null,
            "grid_column": null,
            "grid_gap": null,
            "grid_row": null,
            "grid_template_areas": null,
            "grid_template_columns": null,
            "grid_template_rows": null,
            "height": null,
            "justify_content": null,
            "justify_items": null,
            "left": null,
            "margin": null,
            "max_height": null,
            "max_width": null,
            "min_height": null,
            "min_width": null,
            "object_fit": null,
            "object_position": null,
            "order": null,
            "overflow": null,
            "overflow_x": null,
            "overflow_y": null,
            "padding": null,
            "right": null,
            "top": null,
            "visibility": null,
            "width": null
          }
        },
        "1d92388b789c4694ac45c79f4cd687d4": {
          "model_module": "@jupyter-widgets/controls",
          "model_name": "DescriptionStyleModel",
          "model_module_version": "1.5.0",
          "state": {
            "_model_module": "@jupyter-widgets/controls",
            "_model_module_version": "1.5.0",
            "_model_name": "DescriptionStyleModel",
            "_view_count": null,
            "_view_module": "@jupyter-widgets/base",
            "_view_module_version": "1.2.0",
            "_view_name": "StyleView",
            "description_width": ""
          }
        },
        "f54d3cc77db54072981b3e8535d4ab89": {
          "model_module": "@jupyter-widgets/base",
          "model_name": "LayoutModel",
          "model_module_version": "1.2.0",
          "state": {
            "_model_module": "@jupyter-widgets/base",
            "_model_module_version": "1.2.0",
            "_model_name": "LayoutModel",
            "_view_count": null,
            "_view_module": "@jupyter-widgets/base",
            "_view_module_version": "1.2.0",
            "_view_name": "LayoutView",
            "align_content": null,
            "align_items": null,
            "align_self": null,
            "border": null,
            "bottom": null,
            "display": null,
            "flex": null,
            "flex_flow": null,
            "grid_area": null,
            "grid_auto_columns": null,
            "grid_auto_flow": null,
            "grid_auto_rows": null,
            "grid_column": null,
            "grid_gap": null,
            "grid_row": null,
            "grid_template_areas": null,
            "grid_template_columns": null,
            "grid_template_rows": null,
            "height": null,
            "justify_content": null,
            "justify_items": null,
            "left": null,
            "margin": null,
            "max_height": null,
            "max_width": null,
            "min_height": null,
            "min_width": null,
            "object_fit": null,
            "object_position": null,
            "order": null,
            "overflow": null,
            "overflow_x": null,
            "overflow_y": null,
            "padding": null,
            "right": null,
            "top": null,
            "visibility": null,
            "width": null
          }
        },
        "4250b33414a648059388f1c357fc82de": {
          "model_module": "@jupyter-widgets/controls",
          "model_name": "ProgressStyleModel",
          "model_module_version": "1.5.0",
          "state": {
            "_model_module": "@jupyter-widgets/controls",
            "_model_module_version": "1.5.0",
            "_model_name": "ProgressStyleModel",
            "_view_count": null,
            "_view_module": "@jupyter-widgets/base",
            "_view_module_version": "1.2.0",
            "_view_name": "StyleView",
            "bar_color": null,
            "description_width": ""
          }
        },
        "4f846aa8899d4b14ba170720b713fd84": {
          "model_module": "@jupyter-widgets/base",
          "model_name": "LayoutModel",
          "model_module_version": "1.2.0",
          "state": {
            "_model_module": "@jupyter-widgets/base",
            "_model_module_version": "1.2.0",
            "_model_name": "LayoutModel",
            "_view_count": null,
            "_view_module": "@jupyter-widgets/base",
            "_view_module_version": "1.2.0",
            "_view_name": "LayoutView",
            "align_content": null,
            "align_items": null,
            "align_self": null,
            "border": null,
            "bottom": null,
            "display": null,
            "flex": null,
            "flex_flow": null,
            "grid_area": null,
            "grid_auto_columns": null,
            "grid_auto_flow": null,
            "grid_auto_rows": null,
            "grid_column": null,
            "grid_gap": null,
            "grid_row": null,
            "grid_template_areas": null,
            "grid_template_columns": null,
            "grid_template_rows": null,
            "height": null,
            "justify_content": null,
            "justify_items": null,
            "left": null,
            "margin": null,
            "max_height": null,
            "max_width": null,
            "min_height": null,
            "min_width": null,
            "object_fit": null,
            "object_position": null,
            "order": null,
            "overflow": null,
            "overflow_x": null,
            "overflow_y": null,
            "padding": null,
            "right": null,
            "top": null,
            "visibility": null,
            "width": null
          }
        },
        "6b73c8fa102a43ebb0472aa80f4f6a5e": {
          "model_module": "@jupyter-widgets/controls",
          "model_name": "DescriptionStyleModel",
          "model_module_version": "1.5.0",
          "state": {
            "_model_module": "@jupyter-widgets/controls",
            "_model_module_version": "1.5.0",
            "_model_name": "DescriptionStyleModel",
            "_view_count": null,
            "_view_module": "@jupyter-widgets/base",
            "_view_module_version": "1.2.0",
            "_view_name": "StyleView",
            "description_width": ""
          }
        },
        "6ae749fe6b69473fb23351c2b68960c3": {
          "model_module": "@jupyter-widgets/controls",
          "model_name": "HBoxModel",
          "model_module_version": "1.5.0",
          "state": {
            "_dom_classes": [],
            "_model_module": "@jupyter-widgets/controls",
            "_model_module_version": "1.5.0",
            "_model_name": "HBoxModel",
            "_view_count": null,
            "_view_module": "@jupyter-widgets/controls",
            "_view_module_version": "1.5.0",
            "_view_name": "HBoxView",
            "box_style": "",
            "children": [
              "IPY_MODEL_81fe4526ba3c4447a2464e4c65d96d88",
              "IPY_MODEL_4d2ff3eed2fa4eacb7e4d9aa66e83354",
              "IPY_MODEL_4d4b7762d419499ab4363cbe4359e9ed"
            ],
            "layout": "IPY_MODEL_fef1efc757a64bd1838067e405e45190"
          }
        },
        "81fe4526ba3c4447a2464e4c65d96d88": {
          "model_module": "@jupyter-widgets/controls",
          "model_name": "HTMLModel",
          "model_module_version": "1.5.0",
          "state": {
            "_dom_classes": [],
            "_model_module": "@jupyter-widgets/controls",
            "_model_module_version": "1.5.0",
            "_model_name": "HTMLModel",
            "_view_count": null,
            "_view_module": "@jupyter-widgets/controls",
            "_view_module_version": "1.5.0",
            "_view_name": "HTMLView",
            "description": "",
            "description_tooltip": null,
            "layout": "IPY_MODEL_e7449fce11374741ba38d5d1a2482a37",
            "placeholder": "​",
            "style": "IPY_MODEL_6b139eca8f2142e19491c4b9db1262f0",
            "value": "pytorch_model.bin: 100%"
          }
        },
        "4d2ff3eed2fa4eacb7e4d9aa66e83354": {
          "model_module": "@jupyter-widgets/controls",
          "model_name": "FloatProgressModel",
          "model_module_version": "1.5.0",
          "state": {
            "_dom_classes": [],
            "_model_module": "@jupyter-widgets/controls",
            "_model_module_version": "1.5.0",
            "_model_name": "FloatProgressModel",
            "_view_count": null,
            "_view_module": "@jupyter-widgets/controls",
            "_view_module_version": "1.5.0",
            "_view_name": "ProgressView",
            "bar_style": "success",
            "description": "",
            "description_tooltip": null,
            "layout": "IPY_MODEL_66927ff4e63a423db75d2e1d32592816",
            "max": 439621341,
            "min": 0,
            "orientation": "horizontal",
            "style": "IPY_MODEL_240de1a966f64700932a9e36ae12e47f",
            "value": 439621341
          }
        },
        "4d4b7762d419499ab4363cbe4359e9ed": {
          "model_module": "@jupyter-widgets/controls",
          "model_name": "HTMLModel",
          "model_module_version": "1.5.0",
          "state": {
            "_dom_classes": [],
            "_model_module": "@jupyter-widgets/controls",
            "_model_module_version": "1.5.0",
            "_model_name": "HTMLModel",
            "_view_count": null,
            "_view_module": "@jupyter-widgets/controls",
            "_view_module_version": "1.5.0",
            "_view_name": "HTMLView",
            "description": "",
            "description_tooltip": null,
            "layout": "IPY_MODEL_617fd2dcacc4432d9e5be0f19b3a016c",
            "placeholder": "​",
            "style": "IPY_MODEL_30b30afe39944025b04ad03b67412f7d",
            "value": " 440M/440M [00:04&lt;00:00, 115MB/s]"
          }
        },
        "fef1efc757a64bd1838067e405e45190": {
          "model_module": "@jupyter-widgets/base",
          "model_name": "LayoutModel",
          "model_module_version": "1.2.0",
          "state": {
            "_model_module": "@jupyter-widgets/base",
            "_model_module_version": "1.2.0",
            "_model_name": "LayoutModel",
            "_view_count": null,
            "_view_module": "@jupyter-widgets/base",
            "_view_module_version": "1.2.0",
            "_view_name": "LayoutView",
            "align_content": null,
            "align_items": null,
            "align_self": null,
            "border": null,
            "bottom": null,
            "display": null,
            "flex": null,
            "flex_flow": null,
            "grid_area": null,
            "grid_auto_columns": null,
            "grid_auto_flow": null,
            "grid_auto_rows": null,
            "grid_column": null,
            "grid_gap": null,
            "grid_row": null,
            "grid_template_areas": null,
            "grid_template_columns": null,
            "grid_template_rows": null,
            "height": null,
            "justify_content": null,
            "justify_items": null,
            "left": null,
            "margin": null,
            "max_height": null,
            "max_width": null,
            "min_height": null,
            "min_width": null,
            "object_fit": null,
            "object_position": null,
            "order": null,
            "overflow": null,
            "overflow_x": null,
            "overflow_y": null,
            "padding": null,
            "right": null,
            "top": null,
            "visibility": null,
            "width": null
          }
        },
        "e7449fce11374741ba38d5d1a2482a37": {
          "model_module": "@jupyter-widgets/base",
          "model_name": "LayoutModel",
          "model_module_version": "1.2.0",
          "state": {
            "_model_module": "@jupyter-widgets/base",
            "_model_module_version": "1.2.0",
            "_model_name": "LayoutModel",
            "_view_count": null,
            "_view_module": "@jupyter-widgets/base",
            "_view_module_version": "1.2.0",
            "_view_name": "LayoutView",
            "align_content": null,
            "align_items": null,
            "align_self": null,
            "border": null,
            "bottom": null,
            "display": null,
            "flex": null,
            "flex_flow": null,
            "grid_area": null,
            "grid_auto_columns": null,
            "grid_auto_flow": null,
            "grid_auto_rows": null,
            "grid_column": null,
            "grid_gap": null,
            "grid_row": null,
            "grid_template_areas": null,
            "grid_template_columns": null,
            "grid_template_rows": null,
            "height": null,
            "justify_content": null,
            "justify_items": null,
            "left": null,
            "margin": null,
            "max_height": null,
            "max_width": null,
            "min_height": null,
            "min_width": null,
            "object_fit": null,
            "object_position": null,
            "order": null,
            "overflow": null,
            "overflow_x": null,
            "overflow_y": null,
            "padding": null,
            "right": null,
            "top": null,
            "visibility": null,
            "width": null
          }
        },
        "6b139eca8f2142e19491c4b9db1262f0": {
          "model_module": "@jupyter-widgets/controls",
          "model_name": "DescriptionStyleModel",
          "model_module_version": "1.5.0",
          "state": {
            "_model_module": "@jupyter-widgets/controls",
            "_model_module_version": "1.5.0",
            "_model_name": "DescriptionStyleModel",
            "_view_count": null,
            "_view_module": "@jupyter-widgets/base",
            "_view_module_version": "1.2.0",
            "_view_name": "StyleView",
            "description_width": ""
          }
        },
        "66927ff4e63a423db75d2e1d32592816": {
          "model_module": "@jupyter-widgets/base",
          "model_name": "LayoutModel",
          "model_module_version": "1.2.0",
          "state": {
            "_model_module": "@jupyter-widgets/base",
            "_model_module_version": "1.2.0",
            "_model_name": "LayoutModel",
            "_view_count": null,
            "_view_module": "@jupyter-widgets/base",
            "_view_module_version": "1.2.0",
            "_view_name": "LayoutView",
            "align_content": null,
            "align_items": null,
            "align_self": null,
            "border": null,
            "bottom": null,
            "display": null,
            "flex": null,
            "flex_flow": null,
            "grid_area": null,
            "grid_auto_columns": null,
            "grid_auto_flow": null,
            "grid_auto_rows": null,
            "grid_column": null,
            "grid_gap": null,
            "grid_row": null,
            "grid_template_areas": null,
            "grid_template_columns": null,
            "grid_template_rows": null,
            "height": null,
            "justify_content": null,
            "justify_items": null,
            "left": null,
            "margin": null,
            "max_height": null,
            "max_width": null,
            "min_height": null,
            "min_width": null,
            "object_fit": null,
            "object_position": null,
            "order": null,
            "overflow": null,
            "overflow_x": null,
            "overflow_y": null,
            "padding": null,
            "right": null,
            "top": null,
            "visibility": null,
            "width": null
          }
        },
        "240de1a966f64700932a9e36ae12e47f": {
          "model_module": "@jupyter-widgets/controls",
          "model_name": "ProgressStyleModel",
          "model_module_version": "1.5.0",
          "state": {
            "_model_module": "@jupyter-widgets/controls",
            "_model_module_version": "1.5.0",
            "_model_name": "ProgressStyleModel",
            "_view_count": null,
            "_view_module": "@jupyter-widgets/base",
            "_view_module_version": "1.2.0",
            "_view_name": "StyleView",
            "bar_color": null,
            "description_width": ""
          }
        },
        "617fd2dcacc4432d9e5be0f19b3a016c": {
          "model_module": "@jupyter-widgets/base",
          "model_name": "LayoutModel",
          "model_module_version": "1.2.0",
          "state": {
            "_model_module": "@jupyter-widgets/base",
            "_model_module_version": "1.2.0",
            "_model_name": "LayoutModel",
            "_view_count": null,
            "_view_module": "@jupyter-widgets/base",
            "_view_module_version": "1.2.0",
            "_view_name": "LayoutView",
            "align_content": null,
            "align_items": null,
            "align_self": null,
            "border": null,
            "bottom": null,
            "display": null,
            "flex": null,
            "flex_flow": null,
            "grid_area": null,
            "grid_auto_columns": null,
            "grid_auto_flow": null,
            "grid_auto_rows": null,
            "grid_column": null,
            "grid_gap": null,
            "grid_row": null,
            "grid_template_areas": null,
            "grid_template_columns": null,
            "grid_template_rows": null,
            "height": null,
            "justify_content": null,
            "justify_items": null,
            "left": null,
            "margin": null,
            "max_height": null,
            "max_width": null,
            "min_height": null,
            "min_width": null,
            "object_fit": null,
            "object_position": null,
            "order": null,
            "overflow": null,
            "overflow_x": null,
            "overflow_y": null,
            "padding": null,
            "right": null,
            "top": null,
            "visibility": null,
            "width": null
          }
        },
        "30b30afe39944025b04ad03b67412f7d": {
          "model_module": "@jupyter-widgets/controls",
          "model_name": "DescriptionStyleModel",
          "model_module_version": "1.5.0",
          "state": {
            "_model_module": "@jupyter-widgets/controls",
            "_model_module_version": "1.5.0",
            "_model_name": "DescriptionStyleModel",
            "_view_count": null,
            "_view_module": "@jupyter-widgets/base",
            "_view_module_version": "1.2.0",
            "_view_name": "StyleView",
            "description_width": ""
          }
        },
        "d05892609d994ca9b46aa84681be7806": {
          "model_module": "@jupyter-widgets/controls",
          "model_name": "HBoxModel",
          "model_module_version": "1.5.0",
          "state": {
            "_dom_classes": [],
            "_model_module": "@jupyter-widgets/controls",
            "_model_module_version": "1.5.0",
            "_model_name": "HBoxModel",
            "_view_count": null,
            "_view_module": "@jupyter-widgets/controls",
            "_view_module_version": "1.5.0",
            "_view_name": "HBoxView",
            "box_style": "",
            "children": [
              "IPY_MODEL_4842f94c5eef419197905f2592d413e4",
              "IPY_MODEL_990b9fa647e94f79ac9df3a31edcb9ea",
              "IPY_MODEL_017b5f6376a840b28b5b621d3e0740c6"
            ],
            "layout": "IPY_MODEL_6d169f964c144589889e787cb461f778"
          }
        },
        "4842f94c5eef419197905f2592d413e4": {
          "model_module": "@jupyter-widgets/controls",
          "model_name": "HTMLModel",
          "model_module_version": "1.5.0",
          "state": {
            "_dom_classes": [],
            "_model_module": "@jupyter-widgets/controls",
            "_model_module_version": "1.5.0",
            "_model_name": "HTMLModel",
            "_view_count": null,
            "_view_module": "@jupyter-widgets/controls",
            "_view_module_version": "1.5.0",
            "_view_name": "HTMLView",
            "description": "",
            "description_tooltip": null,
            "layout": "IPY_MODEL_b0e06521596342b2b369038b8630af1a",
            "placeholder": "​",
            "style": "IPY_MODEL_eaced777e6da4faf8d5348edf91e4876",
            "value": "model.safetensors: 100%"
          }
        },
        "990b9fa647e94f79ac9df3a31edcb9ea": {
          "model_module": "@jupyter-widgets/controls",
          "model_name": "FloatProgressModel",
          "model_module_version": "1.5.0",
          "state": {
            "_dom_classes": [],
            "_model_module": "@jupyter-widgets/controls",
            "_model_module_version": "1.5.0",
            "_model_name": "FloatProgressModel",
            "_view_count": null,
            "_view_module": "@jupyter-widgets/controls",
            "_view_module_version": "1.5.0",
            "_view_name": "ProgressView",
            "bar_style": "success",
            "description": "",
            "description_tooltip": null,
            "layout": "IPY_MODEL_d545677fb48d455781faf476fde11eda",
            "max": 439561688,
            "min": 0,
            "orientation": "horizontal",
            "style": "IPY_MODEL_7cea50e34b9746fd864e55b3e58790f1",
            "value": 439561688
          }
        },
        "017b5f6376a840b28b5b621d3e0740c6": {
          "model_module": "@jupyter-widgets/controls",
          "model_name": "HTMLModel",
          "model_module_version": "1.5.0",
          "state": {
            "_dom_classes": [],
            "_model_module": "@jupyter-widgets/controls",
            "_model_module_version": "1.5.0",
            "_model_name": "HTMLModel",
            "_view_count": null,
            "_view_module": "@jupyter-widgets/controls",
            "_view_module_version": "1.5.0",
            "_view_name": "HTMLView",
            "description": "",
            "description_tooltip": null,
            "layout": "IPY_MODEL_03b441a558a041dca485aca98749d05f",
            "placeholder": "​",
            "style": "IPY_MODEL_e0d4857966134b0db57b6670989458b8",
            "value": " 440M/440M [00:04&lt;00:00, 92.8MB/s]"
          }
        },
        "6d169f964c144589889e787cb461f778": {
          "model_module": "@jupyter-widgets/base",
          "model_name": "LayoutModel",
          "model_module_version": "1.2.0",
          "state": {
            "_model_module": "@jupyter-widgets/base",
            "_model_module_version": "1.2.0",
            "_model_name": "LayoutModel",
            "_view_count": null,
            "_view_module": "@jupyter-widgets/base",
            "_view_module_version": "1.2.0",
            "_view_name": "LayoutView",
            "align_content": null,
            "align_items": null,
            "align_self": null,
            "border": null,
            "bottom": null,
            "display": null,
            "flex": null,
            "flex_flow": null,
            "grid_area": null,
            "grid_auto_columns": null,
            "grid_auto_flow": null,
            "grid_auto_rows": null,
            "grid_column": null,
            "grid_gap": null,
            "grid_row": null,
            "grid_template_areas": null,
            "grid_template_columns": null,
            "grid_template_rows": null,
            "height": null,
            "justify_content": null,
            "justify_items": null,
            "left": null,
            "margin": null,
            "max_height": null,
            "max_width": null,
            "min_height": null,
            "min_width": null,
            "object_fit": null,
            "object_position": null,
            "order": null,
            "overflow": null,
            "overflow_x": null,
            "overflow_y": null,
            "padding": null,
            "right": null,
            "top": null,
            "visibility": null,
            "width": null
          }
        },
        "b0e06521596342b2b369038b8630af1a": {
          "model_module": "@jupyter-widgets/base",
          "model_name": "LayoutModel",
          "model_module_version": "1.2.0",
          "state": {
            "_model_module": "@jupyter-widgets/base",
            "_model_module_version": "1.2.0",
            "_model_name": "LayoutModel",
            "_view_count": null,
            "_view_module": "@jupyter-widgets/base",
            "_view_module_version": "1.2.0",
            "_view_name": "LayoutView",
            "align_content": null,
            "align_items": null,
            "align_self": null,
            "border": null,
            "bottom": null,
            "display": null,
            "flex": null,
            "flex_flow": null,
            "grid_area": null,
            "grid_auto_columns": null,
            "grid_auto_flow": null,
            "grid_auto_rows": null,
            "grid_column": null,
            "grid_gap": null,
            "grid_row": null,
            "grid_template_areas": null,
            "grid_template_columns": null,
            "grid_template_rows": null,
            "height": null,
            "justify_content": null,
            "justify_items": null,
            "left": null,
            "margin": null,
            "max_height": null,
            "max_width": null,
            "min_height": null,
            "min_width": null,
            "object_fit": null,
            "object_position": null,
            "order": null,
            "overflow": null,
            "overflow_x": null,
            "overflow_y": null,
            "padding": null,
            "right": null,
            "top": null,
            "visibility": null,
            "width": null
          }
        },
        "eaced777e6da4faf8d5348edf91e4876": {
          "model_module": "@jupyter-widgets/controls",
          "model_name": "DescriptionStyleModel",
          "model_module_version": "1.5.0",
          "state": {
            "_model_module": "@jupyter-widgets/controls",
            "_model_module_version": "1.5.0",
            "_model_name": "DescriptionStyleModel",
            "_view_count": null,
            "_view_module": "@jupyter-widgets/base",
            "_view_module_version": "1.2.0",
            "_view_name": "StyleView",
            "description_width": ""
          }
        },
        "d545677fb48d455781faf476fde11eda": {
          "model_module": "@jupyter-widgets/base",
          "model_name": "LayoutModel",
          "model_module_version": "1.2.0",
          "state": {
            "_model_module": "@jupyter-widgets/base",
            "_model_module_version": "1.2.0",
            "_model_name": "LayoutModel",
            "_view_count": null,
            "_view_module": "@jupyter-widgets/base",
            "_view_module_version": "1.2.0",
            "_view_name": "LayoutView",
            "align_content": null,
            "align_items": null,
            "align_self": null,
            "border": null,
            "bottom": null,
            "display": null,
            "flex": null,
            "flex_flow": null,
            "grid_area": null,
            "grid_auto_columns": null,
            "grid_auto_flow": null,
            "grid_auto_rows": null,
            "grid_column": null,
            "grid_gap": null,
            "grid_row": null,
            "grid_template_areas": null,
            "grid_template_columns": null,
            "grid_template_rows": null,
            "height": null,
            "justify_content": null,
            "justify_items": null,
            "left": null,
            "margin": null,
            "max_height": null,
            "max_width": null,
            "min_height": null,
            "min_width": null,
            "object_fit": null,
            "object_position": null,
            "order": null,
            "overflow": null,
            "overflow_x": null,
            "overflow_y": null,
            "padding": null,
            "right": null,
            "top": null,
            "visibility": null,
            "width": null
          }
        },
        "7cea50e34b9746fd864e55b3e58790f1": {
          "model_module": "@jupyter-widgets/controls",
          "model_name": "ProgressStyleModel",
          "model_module_version": "1.5.0",
          "state": {
            "_model_module": "@jupyter-widgets/controls",
            "_model_module_version": "1.5.0",
            "_model_name": "ProgressStyleModel",
            "_view_count": null,
            "_view_module": "@jupyter-widgets/base",
            "_view_module_version": "1.2.0",
            "_view_name": "StyleView",
            "bar_color": null,
            "description_width": ""
          }
        },
        "03b441a558a041dca485aca98749d05f": {
          "model_module": "@jupyter-widgets/base",
          "model_name": "LayoutModel",
          "model_module_version": "1.2.0",
          "state": {
            "_model_module": "@jupyter-widgets/base",
            "_model_module_version": "1.2.0",
            "_model_name": "LayoutModel",
            "_view_count": null,
            "_view_module": "@jupyter-widgets/base",
            "_view_module_version": "1.2.0",
            "_view_name": "LayoutView",
            "align_content": null,
            "align_items": null,
            "align_self": null,
            "border": null,
            "bottom": null,
            "display": null,
            "flex": null,
            "flex_flow": null,
            "grid_area": null,
            "grid_auto_columns": null,
            "grid_auto_flow": null,
            "grid_auto_rows": null,
            "grid_column": null,
            "grid_gap": null,
            "grid_row": null,
            "grid_template_areas": null,
            "grid_template_columns": null,
            "grid_template_rows": null,
            "height": null,
            "justify_content": null,
            "justify_items": null,
            "left": null,
            "margin": null,
            "max_height": null,
            "max_width": null,
            "min_height": null,
            "min_width": null,
            "object_fit": null,
            "object_position": null,
            "order": null,
            "overflow": null,
            "overflow_x": null,
            "overflow_y": null,
            "padding": null,
            "right": null,
            "top": null,
            "visibility": null,
            "width": null
          }
        },
        "e0d4857966134b0db57b6670989458b8": {
          "model_module": "@jupyter-widgets/controls",
          "model_name": "DescriptionStyleModel",
          "model_module_version": "1.5.0",
          "state": {
            "_model_module": "@jupyter-widgets/controls",
            "_model_module_version": "1.5.0",
            "_model_name": "DescriptionStyleModel",
            "_view_count": null,
            "_view_module": "@jupyter-widgets/base",
            "_view_module_version": "1.2.0",
            "_view_name": "StyleView",
            "description_width": ""
          }
        }
      }
    }
  },
  "cells": [
    {
      "cell_type": "markdown",
      "source": [
        "La finalidad de este segundo cuaderno es hacerle finetuning a un modelo basado en bert, entrenado en español (bert-base-spanish) para predecir la \"dificultad\" de un prompt que se le hace a nuestra herramienta \"Chatbot CV\". Así como si la pregunta no está relacionada con la informacion del CV.\n",
        "\n",
        "De esta forma, se optimizan costes al usar LLMs más caros (e inteligentes) unicamente cuando es necesario. Así como no llamar a ningun LLM y ofrecer una respuesta estática en caso de que se utilice para otros fines."
      ],
      "metadata": {
        "id": "Lx94oynawrRv"
      }
    },
    {
      "cell_type": "markdown",
      "source": [
        "## 1. Importar lo necesario\n",
        "\n",
        "Librerias necesarias etc."
      ],
      "metadata": {
        "id": "Qr5iDPypxAPQ"
      }
    },
    {
      "cell_type": "code",
      "source": [
        "# Celda 1: Importar dependencias\n",
        "import pandas as pd\n",
        "import numpy as np\n",
        "import torch\n",
        "import re\n",
        "import copy\n",
        "from torch.utils.data import Dataset, DataLoader\n",
        "from transformers import BertTokenizer, BertForSequenceClassification, AdamW\n",
        "from transformers import get_linear_schedule_with_warmup\n",
        "from sklearn.model_selection import train_test_split\n",
        "from sklearn.metrics import classification_report\n",
        "from tqdm import tqdm\n",
        "import unicodedata"
      ],
      "metadata": {
        "id": "wdBI-YNXeB2o"
      },
      "execution_count": 1,
      "outputs": []
    },
    {
      "cell_type": "markdown",
      "source": [
        "## 2. Generar dataset\n",
        "Lo definiremos aqui mismo. Los valores de \"dificultad\" serán:\n",
        "\n",
        "0 -> Pregunta \"fácil\" - LLM Barato\n",
        "\n",
        "1 -> Pregunta \"dificil\" - LLM Inteligente\n",
        "\n",
        "2 -> Pregunta no relacionada - Bloquear\n",
        "\n",
        "Ejemplos de preguntas serían:\n",
        "* Facil: \"¿qué ha estudiado Marcos?\"\n",
        "* Dificil: \"¿Sería capaz Marcos de trabajar en un puesto que tenga las tecnologías [...]?\"\n",
        "* No relacionado: \"dame una receta de lasaña\"."
      ],
      "metadata": {
        "id": "7j4V6jF9w7aw"
      }
    },
    {
      "cell_type": "code",
      "source": [
        "# Preguntas fáciles (dificultad 0) - Información DIRECTA del CV\n",
        "prompts_diff0 = [\n",
        "    # Educación y certificaciones - información factual\n",
        "    \"¿Qué estudios tiene Marcos?\",\n",
        "    \"¿Dónde estudió Marcos?\",\n",
        "    \"¿Qué certificaciones posee Marcos?\",\n",
        "    \"¿En qué año se graduó Marcos?\",\n",
        "    \"¿Qué nivel de inglés tiene según su CV?\",\n",
        "    \"¿Qué otros idiomas habla?\",\n",
        "    \"Formación académica de Marcos\",\n",
        "    \"¿Cuándo hizo su máster en IA?\",\n",
        "    \"Títulos universitarios\",\n",
        "    \"¿Qué certificado de Python tiene?\",\n",
        "\n",
        "    # Experiencia laboral - datos concretos\n",
        "    \"¿En qué empresas ha trabajado?\",\n",
        "    \"¿Cuánto tiempo trabajó en Outlier?\",\n",
        "    \"¿Qué puesto ocupó en Grupo Oro?\",\n",
        "    \"Fechas de sus prácticas profesionales\",\n",
        "    \"Puesto actual según CV\",\n",
        "    \"Experiencia total en años\",\n",
        "    \"¿Dónde realizó sus prácticas?\",\n",
        "    \"Fecha de inicio como LLM Specialist\",\n",
        "    \"Primer trabajo profesional\",\n",
        "    \"Cargo actual\",\n",
        "\n",
        "    # Habilidades y tecnologías - listado directo\n",
        "    \"Lenguajes de programación que conoce\",\n",
        "    \"Herramientas de desarrollo que usa\",\n",
        "    \"¿Sabe usar WordPress?\",\n",
        "    \"Frameworks de IA mencionados\",\n",
        "    \"¿Tiene experiencia con Python?\",\n",
        "    \"Bases de datos que maneja\",\n",
        "    \"Bibliotecas científicas que conoce\",\n",
        "    \"¿Tiene conocimientos de cloud?\",\n",
        "    \"Tecnologías ML en su CV\",\n",
        "    \"¿Conoce sobre ciberseguridad?\",\n",
        "\n",
        "    # Proyectos - información básica\n",
        "    \"¿Qué es el proyecto ChatCV?\",\n",
        "    \"¿Qué es Gather-Tracker?\",\n",
        "    \"Tecnologías usadas en ChatCV\",\n",
        "    \"¿Cuándo creó Fox-Detector?\",\n",
        "    \"¿Para qué sirve XLSX a JSONL?\",\n",
        "    \"GitHub de LLM StoryTeller\",\n",
        "    \"Proyecto sobre predicción de fallos\",\n",
        "    \"Nombre del TFM\",\n",
        "    \"Breve descripción de MIDAS\",\n",
        "    \"Herramientas de Fox-Detector\"\n",
        "]\n",
        "\n",
        "# Preguntas difíciles (dificultad 1) - Requieren ANÁLISIS o EVALUACIÓN\n",
        "prompts_diff1 = [\n",
        "    # Evaluaciones profesionales\n",
        "    \"¿Encajaría Marcos en un puesto de liderazgo?\",\n",
        "    \"¿Es adecuado para investigación en IA?\",\n",
        "    \"¿Tiene suficiente experiencia para ser senior?\",\n",
        "    \"Evalúa sus capacidades en desarrollo IA\",\n",
        "    \"¿Sería un buen fit para un equipo de datos?\",\n",
        "    \"¿Puede liderar proyectos técnicos?\",\n",
        "    \"¿Por qué debería contratarlo?\",\n",
        "    \"Valor que aportaría a un equipo ML\",\n",
        "    \"¿Encaja con un rol de MLOps?\",\n",
        "    \"¿Es buen candidato para fintech?\",\n",
        "\n",
        "    # Análisis comparativo y trayectoria\n",
        "    \"¿Cómo se compara con otros profesionales de IA?\",\n",
        "    \"¿Qué lo hace destacar frente a perfiles similares?\",\n",
        "    \"¿Es coherente su trayectoria profesional?\",\n",
        "    \"Fortalezas de su perfil profesional\",\n",
        "    \"Debilidades en su CV\",\n",
        "    \"Evaluación de su transición hacia IA\",\n",
        "    \"Habilidades destacables vs. perfil estándar\",\n",
        "    \"Dirección profesional que parece seguir\",\n",
        "    \"¿Es adecuada su formación para su experiencia?\",\n",
        "    \"Relevancia de su experiencia para el campo IA\",\n",
        "\n",
        "    # Análisis técnico de proyectos\n",
        "    \"Decisiones de arquitectura críticas en MIDAS\",\n",
        "    \"Mejoras posibles para ChatCV\",\n",
        "    \"Escalabilidad de LLM StoryTeller\",\n",
        "    \"Limitaciones del modelo Fox-Detector\",\n",
        "    \"Base de datos vectorial de MIDAS architech\",\n",
        "    \"Enfoque de prompting en MIDAS\",\n",
        "    \"Optimización de HDD Failure ML\",\n",
        "    \"Desafíos de implementación multiagente\",\n",
        "    \"Innovación del enfoque RAG en ChatCV\",\n",
        "    \"Mejoras para Gather-Tracker\",\n",
        "    \"Hablame sobre MIDAS\",\n",
        "\n",
        "    # Proyección y recomendaciones\n",
        "    \"Certificaciones recomendadas para mejorar su perfil\",\n",
        "    \"Roles futuros recomendados\",\n",
        "    \"Áreas donde debería profundizar\",\n",
        "    \"Especialización IA más adecuada\",\n",
        "    \"Estrategias para mejor posicionamiento laboral\",\n",
        "    \"Tecnologías emergentes que debería aprender\",\n",
        "    \"Beneficios de especializarse en LLMs\",\n",
        "    \"Tipo de empresa ideal para su desarrollo\",\n",
        "    \"Áreas de mejora identificadas\",\n",
        "    \"Aprovechamiento de experiencia como LLM Specialist\"\n",
        "]\n",
        "\n",
        "# Preguntas no relacionadas (dificultad 2)\n",
        "prompts_diff2 = [\n",
        "    # Cocina y gastronomía\n",
        "    \"Receta tortilla de patatas\",\n",
        "    \"Dame una receta de paella\",\n",
        "    \"Secreto del buen gazpacho\",\n",
        "    \"Platos vegetarianos sencillos\",\n",
        "    \"Ingredientes auténticos carbonara\",\n",
        "    \"Pan casero sin amasado\",\n",
        "    \"Cómo hacer tiramisú\",\n",
        "    \"Maridaje para pescado\",\n",
        "    \"Arroz perfecto técnica\",\n",
        "    \"Desayuno saludable rápido\",\n",
        "\n",
        "    # Entretenimiento y cultura\n",
        "    \"Series parecidas a Breaking Bad\",\n",
        "    \"Mejores películas 2023\",\n",
        "    \"Libros recomendados ciencia ficción\",\n",
        "    \"Explicación final Inception\",\n",
        "    \"Museos imprescindibles Madrid\",\n",
        "    \"Historia del flamenco\",\n",
        "    \"Podcasts interesantes 2024\",\n",
        "    \"Autor de Cien años de soledad\",\n",
        "    \"Obras famosas Picasso\",\n",
        "    \"Videojuegos estrategia recomendados\",\n",
        "\n",
        "    # Ciencia y conocimientos generales\n",
        "    \"Por qué el cielo es azul\",\n",
        "    \"Teoría relatividad explicación sencilla\",\n",
        "    \"Funcionamiento vacunas ARNm\",\n",
        "    \"Posibilidad vida otros planetas\",\n",
        "    \"Qué es inteligencia artificial\",\n",
        "    \"Cambio climático consecuencias\",\n",
        "    \"Formación huracanes\",\n",
        "    \"Significado sueños con agua\",\n",
        "    \"Animal más inteligente tierra\",\n",
        "    \"Efecto mariposa explicado\",\n",
        "\n",
        "    # Salud y bienestar\n",
        "    \"Ejercicios dolor espalda\",\n",
        "    \"Mejorar calidad sueño\",\n",
        "    \"Beneficios vitamina D\",\n",
        "    \"Dieta mediterránea características\",\n",
        "    \"Técnicas meditación principiantes\",\n",
        "    \"Superar ansiedad social\",\n",
        "    \"Rutina ejercicios casa\",\n",
        "    \"Cantidad agua diaria recomendada\",\n",
        "    \"Alimentos ricos hierro\",\n",
        "    \"Consejos buena postura\"\n",
        "]\n",
        "\n",
        "# Construcción del dataset equilibrado\n",
        "datos = []\n",
        "for prompt in prompts_diff0: datos.append({\"prompt\": prompt, \"dificultad\": 0})\n",
        "for prompt in prompts_diff1: datos.append({\"prompt\": prompt, \"dificultad\": 1})\n",
        "for prompt in prompts_diff2: datos.append({\"prompt\": prompt, \"dificultad\": 2})\n",
        "\n",
        "# Creación y guardado del DataFrame\n",
        "import pandas as pd\n",
        "import random\n",
        "\n",
        "random.shuffle(datos)\n",
        "df = pd.DataFrame(datos)\n",
        "\n",
        "print(f\"Distribución del dataset:\")\n",
        "print(df['dificultad'].value_counts())\n",
        "\n",
        "df.to_csv(\"dataset_raw.csv\", index=False)\n",
        "print(\"Dataset final creado y listo para producción.\")"
      ],
      "metadata": {
        "colab": {
          "base_uri": "https://localhost:8080/"
        },
        "id": "6YzZl7xleEWU",
        "outputId": "39f75b1a-a9e8-4685-98d3-243342cfa95b"
      },
      "execution_count": 2,
      "outputs": [
        {
          "output_type": "stream",
          "name": "stdout",
          "text": [
            "Distribución del dataset:\n",
            "dificultad\n",
            "1    41\n",
            "2    40\n",
            "0    40\n",
            "Name: count, dtype: int64\n",
            "Dataset final creado y listo para producción.\n"
          ]
        }
      ]
    },
    {
      "cell_type": "markdown",
      "source": [
        "## 3. Preprocesar el texto\n",
        "\n",
        "De esta forma no dará problemas al entrenarse."
      ],
      "metadata": {
        "id": "X9GyHs_2xH8t"
      }
    },
    {
      "cell_type": "code",
      "source": [
        "# Celda 3: Preprocesamiento de texto\n",
        "def clean_text(text):\n",
        "    text = unicodedata.normalize('NFKD', text).encode('ascii', 'ignore').decode('utf-8', 'ignore')\n",
        "    text = re.sub(r'[^\\w\\s]', '', text)\n",
        "    return text.strip()\n",
        "\n",
        "df = pd.read_csv(\"dataset_raw.csv\")\n",
        "df['cleaned_prompt'] = df['prompt'].apply(clean_text)\n",
        "texts = df['cleaned_prompt'].tolist()\n",
        "labels = df['dificultad'].tolist()"
      ],
      "metadata": {
        "id": "YN4n92xCeGDT"
      },
      "execution_count": 3,
      "outputs": []
    },
    {
      "cell_type": "markdown",
      "source": [
        "Dividimos el dataset en test y train"
      ],
      "metadata": {
        "id": "B-1mdKfWxQzV"
      }
    },
    {
      "cell_type": "code",
      "source": [
        "# Celda 4: División del dataset\n",
        "train_texts, test_texts, train_labels, test_labels = train_test_split(\n",
        "    texts, labels, test_size=0.2, stratify=labels, random_state=42, shuffle=True\n",
        ")"
      ],
      "metadata": {
        "id": "LeNekYlGeK_-"
      },
      "execution_count": 4,
      "outputs": []
    },
    {
      "cell_type": "markdown",
      "source": [
        "Y lo tokenizamos usando el tokenizador propio del modelo a utilizar. Con su longitud maxima de 512 tokens."
      ],
      "metadata": {
        "id": "3w4_qO5DxTEb"
      }
    },
    {
      "cell_type": "code",
      "source": [
        "# Celda 5: Tokenización\n",
        "tokenizer = BertTokenizer.from_pretrained('dccuchile/bert-base-spanish-wwm-cased')\n",
        "\n",
        "train_encodings = tokenizer(train_texts, truncation=True, padding=True, max_length=512)\n",
        "test_encodings = tokenizer(test_texts, truncation=True, padding=True, max_length=512)"
      ],
      "metadata": {
        "id": "N6XlBNUEeN3V",
        "colab": {
          "base_uri": "https://localhost:8080/",
          "height": 306,
          "referenced_widgets": [
            "1816f88523e242b08adfac2a1c9a9f54",
            "123917e42a2c46a78232a79029d991d0",
            "b182a75d0c0a428481764c3fe5c6e7f5",
            "1c0afaf6f14a4af4af9ae35219fe6af0",
            "bb507e2539d44fb8b8cd7703344010d5",
            "42d76c68da514e90937bb50ce35e6b7c",
            "7168162026a347deb7b6cabd4eaaac61",
            "d1c572c6496146dab636f3c15566b57f",
            "3d1e366f03b744449e50037959aaa7a6",
            "4b60cc793ea24aada888be38b043edab",
            "0f70b43d263642e1a2548783ea74f80f",
            "7c055dd10dcd4953a47f900bed36970a",
            "cc00e4405f464e3ab4c0ee8dc95aa16e",
            "b429b58a2533447190715ad090ee0fa6",
            "81771377b718473ca37a3124e49fa1a9",
            "ec2f32a3ce4149c88f96994aaac26eeb",
            "3e7409b9ec3c4d61ac56d5aae075bb64",
            "281b5ce16a654dcf8592fdef26016fe3",
            "c5b8e04a8e08475e84c416077f02d754",
            "4fccc3699b8e40089da37e64b96fe99a",
            "535d6b0093574b839565c58e82a84b67",
            "804c8f655ecb4911b889e52dc50aac77",
            "b6b72d55b24043c085ff00d4ba1cd58d",
            "0ce8b2d398dd4b39ae3171cec7f89af3",
            "9ccc28ca2d764c83854e4c9a03415b91",
            "483a4bb260e24b43b154b493db489320",
            "288c875d1e96483897bd8bf2b60c533c",
            "250c148dc0444fc794d6dce466994e54",
            "e7f37eb78bf64bfd9bb120483761c1ed",
            "5965f0b41a364efab37dba0298fe89a4",
            "40dc2f611c41482dbb2ed4d29deb3bee",
            "f78ff27895df4e87bf9e71b6c6485d32",
            "33c96f09f62e4ae2b6394fb8165330b5",
            "c1b64ea7e0134b85a8313292180bd0b8",
            "e0dd912a4f044cda8f076b66593e3ebf",
            "bcda2a52c4a548008d8f510fafaa9701",
            "37d8c40f41494f48aff64932339de354",
            "8b052154787e4ef0ae1a7aae69a24c12",
            "ca13dfd6b3e94fcfb36099cae35e2546",
            "a3a1add416054a3090698e7014a2379a",
            "13151ac822ab4006bf70707b162bf20c",
            "a66a69ae1b7d42cab19e29b2862289a2",
            "3851dd7b264d46d08645dd56143b934f",
            "d6db91b7f3df4c2ca5d281bd234402c5",
            "9200766812914aefaf1da8031e5e4ba8",
            "43221310d306496189608b9ca46ef199",
            "84e9284583e14c07a26bd40c1b2b05cb",
            "4ba9b0afeb294363a8536273454b7ec9",
            "cae094c02e1d4f849968b8c41db3e4fa",
            "3b42914ebb8146939810c996b89106a8",
            "1d92388b789c4694ac45c79f4cd687d4",
            "f54d3cc77db54072981b3e8535d4ab89",
            "4250b33414a648059388f1c357fc82de",
            "4f846aa8899d4b14ba170720b713fd84",
            "6b73c8fa102a43ebb0472aa80f4f6a5e"
          ]
        },
        "outputId": "49cc2878-895c-4823-d1e6-0521d243fcee"
      },
      "execution_count": 5,
      "outputs": [
        {
          "output_type": "stream",
          "name": "stderr",
          "text": [
            "/usr/local/lib/python3.11/dist-packages/huggingface_hub/utils/_auth.py:94: UserWarning: \n",
            "The secret `HF_TOKEN` does not exist in your Colab secrets.\n",
            "To authenticate with the Hugging Face Hub, create a token in your settings tab (https://huggingface.co/settings/tokens), set it as secret in your Google Colab and restart your session.\n",
            "You will be able to reuse this secret in all of your notebooks.\n",
            "Please note that authentication is recommended but still optional to access public models or datasets.\n",
            "  warnings.warn(\n"
          ]
        },
        {
          "output_type": "display_data",
          "data": {
            "text/plain": [
              "tokenizer_config.json:   0%|          | 0.00/364 [00:00<?, ?B/s]"
            ],
            "application/vnd.jupyter.widget-view+json": {
              "version_major": 2,
              "version_minor": 0,
              "model_id": "1816f88523e242b08adfac2a1c9a9f54"
            }
          },
          "metadata": {}
        },
        {
          "output_type": "display_data",
          "data": {
            "text/plain": [
              "vocab.txt:   0%|          | 0.00/242k [00:00<?, ?B/s]"
            ],
            "application/vnd.jupyter.widget-view+json": {
              "version_major": 2,
              "version_minor": 0,
              "model_id": "7c055dd10dcd4953a47f900bed36970a"
            }
          },
          "metadata": {}
        },
        {
          "output_type": "display_data",
          "data": {
            "text/plain": [
              "special_tokens_map.json:   0%|          | 0.00/134 [00:00<?, ?B/s]"
            ],
            "application/vnd.jupyter.widget-view+json": {
              "version_major": 2,
              "version_minor": 0,
              "model_id": "b6b72d55b24043c085ff00d4ba1cd58d"
            }
          },
          "metadata": {}
        },
        {
          "output_type": "display_data",
          "data": {
            "text/plain": [
              "tokenizer.json:   0%|          | 0.00/480k [00:00<?, ?B/s]"
            ],
            "application/vnd.jupyter.widget-view+json": {
              "version_major": 2,
              "version_minor": 0,
              "model_id": "c1b64ea7e0134b85a8313292180bd0b8"
            }
          },
          "metadata": {}
        },
        {
          "output_type": "display_data",
          "data": {
            "text/plain": [
              "config.json:   0%|          | 0.00/648 [00:00<?, ?B/s]"
            ],
            "application/vnd.jupyter.widget-view+json": {
              "version_major": 2,
              "version_minor": 0,
              "model_id": "9200766812914aefaf1da8031e5e4ba8"
            }
          },
          "metadata": {}
        }
      ]
    },
    {
      "cell_type": "markdown",
      "source": [
        "Creamos los dataloaders (para procesar el dataset por lotes)"
      ],
      "metadata": {
        "id": "stXB15v8xaLd"
      }
    },
    {
      "cell_type": "code",
      "source": [
        "# Celda 6: Creación de DataLoaders\n",
        "class MIDASDataset(Dataset):\n",
        "    def __init__(self, encodings, labels):\n",
        "        self.encodings = encodings\n",
        "        self.labels = labels\n",
        "\n",
        "    def __getitem__(self, idx):\n",
        "        item = {key: torch.tensor(val[idx]) for key, val in self.encodings.items()}\n",
        "        item['labels'] = torch.tensor(self.labels[idx])\n",
        "        return item\n",
        "\n",
        "    def __len__(self):\n",
        "        return len(self.labels)\n",
        "\n",
        "train_dataset = MIDASDataset(train_encodings, train_labels)\n",
        "test_dataset = MIDASDataset(test_encodings, test_labels)\n",
        "\n",
        "train_loader = DataLoader(train_dataset, batch_size=8, shuffle=True)\n",
        "test_loader = DataLoader(test_dataset, batch_size=8, shuffle=False)"
      ],
      "metadata": {
        "id": "1EV2XWyBeOPQ"
      },
      "execution_count": 6,
      "outputs": []
    },
    {
      "cell_type": "markdown",
      "source": [
        "Configuramos el modelo y las labels..."
      ],
      "metadata": {
        "id": "-KEGGA0FxoK_"
      }
    },
    {
      "cell_type": "code",
      "source": [
        "# Celda 7: Configuración del modelo\n",
        "model = BertForSequenceClassification.from_pretrained(\n",
        "    'dccuchile/bert-base-spanish-wwm-cased',\n",
        "    num_labels=3\n",
        ")\n",
        "device = torch.device('cuda' if torch.cuda.is_available() else 'cpu')\n",
        "model.to(device)"
      ],
      "metadata": {
        "colab": {
          "base_uri": "https://localhost:8080/",
          "height": 959,
          "referenced_widgets": [
            "6ae749fe6b69473fb23351c2b68960c3",
            "81fe4526ba3c4447a2464e4c65d96d88",
            "4d2ff3eed2fa4eacb7e4d9aa66e83354",
            "4d4b7762d419499ab4363cbe4359e9ed",
            "fef1efc757a64bd1838067e405e45190",
            "e7449fce11374741ba38d5d1a2482a37",
            "6b139eca8f2142e19491c4b9db1262f0",
            "66927ff4e63a423db75d2e1d32592816",
            "240de1a966f64700932a9e36ae12e47f",
            "617fd2dcacc4432d9e5be0f19b3a016c",
            "30b30afe39944025b04ad03b67412f7d",
            "d05892609d994ca9b46aa84681be7806",
            "4842f94c5eef419197905f2592d413e4",
            "990b9fa647e94f79ac9df3a31edcb9ea",
            "017b5f6376a840b28b5b621d3e0740c6",
            "6d169f964c144589889e787cb461f778",
            "b0e06521596342b2b369038b8630af1a",
            "eaced777e6da4faf8d5348edf91e4876",
            "d545677fb48d455781faf476fde11eda",
            "7cea50e34b9746fd864e55b3e58790f1",
            "03b441a558a041dca485aca98749d05f",
            "e0d4857966134b0db57b6670989458b8"
          ]
        },
        "id": "GOajoh1teQ0d",
        "outputId": "50664df6-911c-4b74-9e3f-fa67cb1cc842"
      },
      "execution_count": 7,
      "outputs": [
        {
          "output_type": "display_data",
          "data": {
            "text/plain": [
              "pytorch_model.bin:   0%|          | 0.00/440M [00:00<?, ?B/s]"
            ],
            "application/vnd.jupyter.widget-view+json": {
              "version_major": 2,
              "version_minor": 0,
              "model_id": "6ae749fe6b69473fb23351c2b68960c3"
            }
          },
          "metadata": {}
        },
        {
          "output_type": "stream",
          "name": "stderr",
          "text": [
            "Some weights of BertForSequenceClassification were not initialized from the model checkpoint at dccuchile/bert-base-spanish-wwm-cased and are newly initialized: ['bert.pooler.dense.bias', 'bert.pooler.dense.weight', 'classifier.bias', 'classifier.weight']\n",
            "You should probably TRAIN this model on a down-stream task to be able to use it for predictions and inference.\n"
          ]
        },
        {
          "output_type": "display_data",
          "data": {
            "text/plain": [
              "model.safetensors:   0%|          | 0.00/440M [00:00<?, ?B/s]"
            ],
            "application/vnd.jupyter.widget-view+json": {
              "version_major": 2,
              "version_minor": 0,
              "model_id": "d05892609d994ca9b46aa84681be7806"
            }
          },
          "metadata": {}
        },
        {
          "output_type": "execute_result",
          "data": {
            "text/plain": [
              "BertForSequenceClassification(\n",
              "  (bert): BertModel(\n",
              "    (embeddings): BertEmbeddings(\n",
              "      (word_embeddings): Embedding(31002, 768, padding_idx=1)\n",
              "      (position_embeddings): Embedding(512, 768)\n",
              "      (token_type_embeddings): Embedding(2, 768)\n",
              "      (LayerNorm): LayerNorm((768,), eps=1e-12, elementwise_affine=True)\n",
              "      (dropout): Dropout(p=0.1, inplace=False)\n",
              "    )\n",
              "    (encoder): BertEncoder(\n",
              "      (layer): ModuleList(\n",
              "        (0-11): 12 x BertLayer(\n",
              "          (attention): BertAttention(\n",
              "            (self): BertSdpaSelfAttention(\n",
              "              (query): Linear(in_features=768, out_features=768, bias=True)\n",
              "              (key): Linear(in_features=768, out_features=768, bias=True)\n",
              "              (value): Linear(in_features=768, out_features=768, bias=True)\n",
              "              (dropout): Dropout(p=0.1, inplace=False)\n",
              "            )\n",
              "            (output): BertSelfOutput(\n",
              "              (dense): Linear(in_features=768, out_features=768, bias=True)\n",
              "              (LayerNorm): LayerNorm((768,), eps=1e-12, elementwise_affine=True)\n",
              "              (dropout): Dropout(p=0.1, inplace=False)\n",
              "            )\n",
              "          )\n",
              "          (intermediate): BertIntermediate(\n",
              "            (dense): Linear(in_features=768, out_features=3072, bias=True)\n",
              "            (intermediate_act_fn): GELUActivation()\n",
              "          )\n",
              "          (output): BertOutput(\n",
              "            (dense): Linear(in_features=3072, out_features=768, bias=True)\n",
              "            (LayerNorm): LayerNorm((768,), eps=1e-12, elementwise_affine=True)\n",
              "            (dropout): Dropout(p=0.1, inplace=False)\n",
              "          )\n",
              "        )\n",
              "      )\n",
              "    )\n",
              "    (pooler): BertPooler(\n",
              "      (dense): Linear(in_features=768, out_features=768, bias=True)\n",
              "      (activation): Tanh()\n",
              "    )\n",
              "  )\n",
              "  (dropout): Dropout(p=0.1, inplace=False)\n",
              "  (classifier): Linear(in_features=768, out_features=3, bias=True)\n",
              ")"
            ]
          },
          "metadata": {},
          "execution_count": 7
        }
      ]
    },
    {
      "cell_type": "markdown",
      "source": [
        "## 4. Entrenar el modelo\n",
        "\n",
        "Aqui definimos los parametros del entrenamiento..."
      ],
      "metadata": {
        "id": "CGdfqJlOxrBn"
      }
    },
    {
      "cell_type": "code",
      "source": [
        "# Celda 8: Configuración del entrenamiento\n",
        "optimizer = AdamW(model.parameters(), lr=2e-5)\n",
        "num_epochs = 10\n",
        "total_steps = len(train_loader) * num_epochs\n",
        "scheduler = get_linear_schedule_with_warmup(\n",
        "    optimizer,\n",
        "    num_warmup_steps=0,\n",
        "    num_training_steps=total_steps\n",
        ")"
      ],
      "metadata": {
        "colab": {
          "base_uri": "https://localhost:8080/"
        },
        "id": "-cvxI-SUeR2e",
        "outputId": "e08c81f9-abb1-4c8d-86db-3d7bd000615e"
      },
      "execution_count": 8,
      "outputs": [
        {
          "output_type": "stream",
          "name": "stderr",
          "text": [
            "/usr/local/lib/python3.11/dist-packages/transformers/optimization.py:640: FutureWarning: This implementation of AdamW is deprecated and will be removed in a future version. Use the PyTorch implementation torch.optim.AdamW instead, or set `no_deprecation_warning=True` to disable this warning\n",
            "  warnings.warn(\n"
          ]
        }
      ]
    },
    {
      "cell_type": "markdown",
      "source": [
        "Y ahora entrenamos al modelo. Serán 10 epocas y se guardará aquel que obtenga un menor \"loss\" en el conjunto de test. De esta forma nos quedaremos con aquel que tenga un mejor desempeño sin caer en el sobreajuste."
      ],
      "metadata": {
        "id": "wMELvpmtlcYS"
      }
    },
    {
      "cell_type": "code",
      "source": [
        "# Celda 9: Entrenamiento\n",
        "best_val_loss = float('inf')\n",
        "best_model_state = None\n",
        "\n",
        "for epoch in range(num_epochs):\n",
        "    # Entrenamiento\n",
        "    model.train()\n",
        "    total_train_loss = 0\n",
        "    for batch in tqdm(train_loader, desc=f\"Epoch {epoch+1}\"):\n",
        "        optimizer.zero_grad()\n",
        "        inputs = {k: v.to(device) for k, v in batch.items() if k != 'labels'}\n",
        "        outputs = model(**inputs, labels=batch['labels'].to(device))\n",
        "        loss = outputs.loss\n",
        "        total_train_loss += loss.item()\n",
        "        loss.backward()\n",
        "        torch.nn.utils.clip_grad_norm_(model.parameters(), 1.0)\n",
        "        optimizer.step()\n",
        "        scheduler.step()\n",
        "\n",
        "    avg_train_loss = total_train_loss / len(train_loader)\n",
        "\n",
        "    # Evaluación en el conjunto de test (o validación)\n",
        "    model.eval()\n",
        "    total_val_loss = 0\n",
        "    with torch.no_grad():\n",
        "        for batch in test_loader:\n",
        "            inputs = {k: v.to(device) for k, v in batch.items() if k != 'labels'}\n",
        "            outputs = model(**inputs, labels=batch['labels'].to(device))\n",
        "            loss = outputs.loss\n",
        "            total_val_loss += loss.item()\n",
        "\n",
        "    avg_val_loss = total_val_loss / len(test_loader)\n",
        "\n",
        "    print(f\"Epoch {epoch+1} - Train Loss: {avg_train_loss:.4f} - Validation Loss: {avg_val_loss:.4f}\")\n",
        "\n",
        "    # Guardar el mejor modelo según el loss en el conjunto de validación\n",
        "    if avg_val_loss < best_val_loss:\n",
        "        best_val_loss = avg_val_loss\n",
        "        best_model_state = copy.deepcopy(model.state_dict())\n",
        "        print(f\"--> Mejor modelo actualizado en Epoch {epoch+1}\")\n",
        "\n",
        "# Cargar el estado del mejor modelo\n",
        "model.load_state_dict(best_model_state)\n",
        "print(\"Entrenamiento completado. Se cargó el modelo con mejor desempeño en validación.\")"
      ],
      "metadata": {
        "colab": {
          "base_uri": "https://localhost:8080/",
          "height": 711
        },
        "id": "NicZxncceTQ_",
        "outputId": "012b1697-34e0-47f8-dd7a-0d6f488585b1"
      },
      "execution_count": 9,
      "outputs": [
        {
          "output_type": "stream",
          "name": "stderr",
          "text": [
            "\n",
            "Epoch 1:   0%|          | 0/12 [00:00<?, ?it/s]\u001b[A\n",
            "Epoch 1:   8%|▊         | 1/12 [00:02<00:28,  2.55s/it]\u001b[A\n",
            "Epoch 1:  17%|█▋        | 2/12 [00:02<00:12,  1.25s/it]\u001b[A\n",
            "Epoch 1:  25%|██▌       | 3/12 [00:03<00:07,  1.16it/s]\u001b[A\n",
            "Epoch 1:  33%|███▎      | 4/12 [00:03<00:05,  1.59it/s]\u001b[A\n",
            "Epoch 1:  42%|████▏     | 5/12 [00:03<00:03,  2.05it/s]\u001b[A\n",
            "Epoch 1:  50%|█████     | 6/12 [00:04<00:02,  2.49it/s]\u001b[A\n",
            "Epoch 1:  58%|█████▊    | 7/12 [00:04<00:01,  2.62it/s]\u001b[A\n",
            "Epoch 1:  67%|██████▋   | 8/12 [00:04<00:01,  2.91it/s]\u001b[A\n",
            "Epoch 1:  83%|████████▎ | 10/12 [00:04<00:00,  4.38it/s]\u001b[A\n",
            "Epoch 1: 100%|██████████| 12/12 [00:05<00:00,  2.34it/s]\n"
          ]
        },
        {
          "output_type": "stream",
          "name": "stdout",
          "text": [
            "Epoch 1 - Train Loss: 1.1041 - Validation Loss: 1.0429\n",
            "--> Mejor modelo actualizado en Epoch 1\n"
          ]
        },
        {
          "output_type": "stream",
          "name": "stderr",
          "text": [
            "Epoch 2: 100%|██████████| 12/12 [00:02<00:00,  5.76it/s]\n"
          ]
        },
        {
          "output_type": "stream",
          "name": "stdout",
          "text": [
            "Epoch 2 - Train Loss: 0.8875 - Validation Loss: 0.9033\n",
            "--> Mejor modelo actualizado en Epoch 2\n"
          ]
        },
        {
          "output_type": "stream",
          "name": "stderr",
          "text": [
            "Epoch 3: 100%|██████████| 12/12 [00:00<00:00, 12.03it/s]\n"
          ]
        },
        {
          "output_type": "stream",
          "name": "stdout",
          "text": [
            "Epoch 3 - Train Loss: 0.5809 - Validation Loss: 0.6890\n",
            "--> Mejor modelo actualizado en Epoch 3\n"
          ]
        },
        {
          "output_type": "stream",
          "name": "stderr",
          "text": [
            "Epoch 4: 100%|██████████| 12/12 [00:00<00:00, 16.12it/s]\n"
          ]
        },
        {
          "output_type": "stream",
          "name": "stdout",
          "text": [
            "Epoch 4 - Train Loss: 0.3431 - Validation Loss: 0.5454\n",
            "--> Mejor modelo actualizado en Epoch 4\n"
          ]
        },
        {
          "output_type": "stream",
          "name": "stderr",
          "text": [
            "Epoch 5: 100%|██████████| 12/12 [00:00<00:00, 16.15it/s]\n"
          ]
        },
        {
          "output_type": "stream",
          "name": "stdout",
          "text": [
            "Epoch 5 - Train Loss: 0.1538 - Validation Loss: 0.3359\n",
            "--> Mejor modelo actualizado en Epoch 5\n"
          ]
        },
        {
          "output_type": "stream",
          "name": "stderr",
          "text": [
            "Epoch 6: 100%|██████████| 12/12 [00:00<00:00, 16.43it/s]\n"
          ]
        },
        {
          "output_type": "stream",
          "name": "stdout",
          "text": [
            "Epoch 6 - Train Loss: 0.0596 - Validation Loss: 0.1555\n",
            "--> Mejor modelo actualizado en Epoch 6\n"
          ]
        },
        {
          "output_type": "stream",
          "name": "stderr",
          "text": [
            "Epoch 7: 100%|██████████| 12/12 [00:00<00:00, 16.05it/s]\n"
          ]
        },
        {
          "output_type": "stream",
          "name": "stdout",
          "text": [
            "Epoch 7 - Train Loss: 0.0282 - Validation Loss: 0.2919\n"
          ]
        },
        {
          "output_type": "stream",
          "name": "stderr",
          "text": [
            "Epoch 8: 100%|██████████| 12/12 [00:00<00:00, 16.15it/s]\n"
          ]
        },
        {
          "output_type": "stream",
          "name": "stdout",
          "text": [
            "Epoch 8 - Train Loss: 0.0153 - Validation Loss: 0.3209\n"
          ]
        },
        {
          "output_type": "stream",
          "name": "stderr",
          "text": [
            "Epoch 9: 100%|██████████| 12/12 [00:00<00:00, 16.14it/s]\n"
          ]
        },
        {
          "output_type": "stream",
          "name": "stdout",
          "text": [
            "Epoch 9 - Train Loss: 0.0122 - Validation Loss: 0.2974\n"
          ]
        },
        {
          "output_type": "stream",
          "name": "stderr",
          "text": [
            "Epoch 10: 100%|██████████| 12/12 [00:00<00:00, 16.11it/s]"
          ]
        },
        {
          "output_type": "stream",
          "name": "stdout",
          "text": [
            "Epoch 10 - Train Loss: 0.0111 - Validation Loss: 0.2699\n",
            "Entrenamiento completado. Se cargó el modelo con mejor desempeño en validación.\n"
          ]
        },
        {
          "output_type": "stream",
          "name": "stderr",
          "text": [
            "\n"
          ]
        }
      ]
    },
    {
      "cell_type": "markdown",
      "source": [
        "Vamos a sacar el reporte de clasificación para ver el desempeño"
      ],
      "metadata": {
        "id": "7TtJGGZmxzH2"
      }
    },
    {
      "cell_type": "code",
      "source": [
        "# Celda 10: Evaluación\n",
        "model.eval()\n",
        "predictions, true_labels = [], []\n",
        "\n",
        "for batch in tqdm(test_loader, desc=\"Evaluando\"):\n",
        "    with torch.no_grad():\n",
        "        inputs = {k: v.to(device) for k, v in batch.items() if k != 'labels'}\n",
        "        outputs = model(**inputs)\n",
        "        logits = outputs.logits\n",
        "        preds = torch.argmax(logits, dim=1).cpu().numpy()\n",
        "        predictions.extend(preds)\n",
        "        true_labels.extend(batch['labels'].cpu().numpy())\n",
        "\n",
        "print(\"\\nReporte de clasificación:\")\n",
        "print(classification_report(true_labels, predictions))"
      ],
      "metadata": {
        "colab": {
          "base_uri": "https://localhost:8080/"
        },
        "id": "d3J4i0E2eU4o",
        "outputId": "fcda0e63-e7fd-48b9-b639-4291b4b2235d"
      },
      "execution_count": 10,
      "outputs": [
        {
          "output_type": "stream",
          "name": "stderr",
          "text": [
            "Evaluando: 100%|██████████| 4/4 [00:00<00:00, 46.92it/s]"
          ]
        },
        {
          "output_type": "stream",
          "name": "stdout",
          "text": [
            "\n",
            "Reporte de clasificación:\n",
            "              precision    recall  f1-score   support\n",
            "\n",
            "           0       0.80      1.00      0.89         8\n",
            "           1       1.00      0.78      0.88         9\n",
            "           2       1.00      1.00      1.00         8\n",
            "\n",
            "    accuracy                           0.92        25\n",
            "   macro avg       0.93      0.93      0.92        25\n",
            "weighted avg       0.94      0.92      0.92        25\n",
            "\n"
          ]
        },
        {
          "output_type": "stream",
          "name": "stderr",
          "text": [
            "\n"
          ]
        }
      ]
    },
    {
      "cell_type": "markdown",
      "source": [
        "Muy buen resultado. Quizas un pelin bajo el recall de \"pregunta dificil\" (comparado con los otros), pero es MUY buen resultado.\n",
        "\n",
        "Ahora, guardamos el modelo y el tokenizador."
      ],
      "metadata": {
        "id": "Po-fCmsMx346"
      }
    },
    {
      "cell_type": "code",
      "source": [
        "# Celda 11: Guardar modelo\n",
        "model.save_pretrained(\"prompt_analysis\")\n",
        "tokenizer.save_pretrained(\"prompt_analysis\")"
      ],
      "metadata": {
        "colab": {
          "base_uri": "https://localhost:8080/"
        },
        "id": "--_9O37DeWZM",
        "outputId": "36b2e23a-a5e1-409b-f8e0-928d02a368ff"
      },
      "execution_count": 11,
      "outputs": [
        {
          "output_type": "execute_result",
          "data": {
            "text/plain": [
              "('prompt_analysis/tokenizer_config.json',\n",
              " 'prompt_analysis/special_tokens_map.json',\n",
              " 'prompt_analysis/vocab.txt',\n",
              " 'prompt_analysis/added_tokens.json')"
            ]
          },
          "metadata": {},
          "execution_count": 11
        }
      ]
    },
    {
      "cell_type": "markdown",
      "source": [
        "Y vamos a probar algunos ejemplos:"
      ],
      "metadata": {
        "id": "2Xt1G9oPyC3m"
      }
    },
    {
      "cell_type": "code",
      "source": [
        "# Celda 12: Función de predicción\n",
        "def clasificar_dificultad(texto):\n",
        "    # Preprocesar\n",
        "    texto_limpio = clean_text(texto)\n",
        "\n",
        "    # Tokenizar\n",
        "    inputs = tokenizer(texto_limpio, return_tensors=\"pt\", truncation=True, max_length=512).to(device)\n",
        "\n",
        "    # Predecir\n",
        "    with torch.no_grad():\n",
        "        outputs = model(**inputs)\n",
        "        logits = outputs.logits\n",
        "        prediccion = torch.argmax(logits, dim=1).item()\n",
        "\n",
        "    # Mapeo de etiquetas descriptivas\n",
        "    etiquetas = {\n",
        "        0: \"fácil\",\n",
        "        1: \"difícil\",\n",
        "        2: \"no relacionado\"\n",
        "    }\n",
        "\n",
        "    return prediccion, etiquetas[prediccion]\n",
        "\n",
        "# Ejemplo de uso\n",
        "while True:\n",
        "    user_input = input(\"\\nIngrese su pregunta (o 'salir' para terminar): \")\n",
        "    if user_input.lower() == 'salir':\n",
        "        break\n",
        "\n",
        "    dificultad_num, dificultad_texto = clasificar_dificultad(user_input)\n",
        "    print(f\"Dificultad clasificada: {dificultad_num} - {dificultad_texto}\")"
      ],
      "metadata": {
        "colab": {
          "base_uri": "https://localhost:8080/"
        },
        "id": "eGpZV6ZweZap",
        "outputId": "d91be896-a0b0-4738-ec95-b0b8f648dd81"
      },
      "execution_count": 12,
      "outputs": [
        {
          "name": "stdout",
          "output_type": "stream",
          "text": [
            "\n",
            "Ingrese su pregunta (o 'salir' para terminar): que sabes sobre marcos\n",
            "Dificultad clasificada: 0 - fácil\n",
            "\n",
            "Ingrese su pregunta (o 'salir' para terminar): que hizo marcos en sus practicas de grupo oro\n",
            "Dificultad clasificada: 0 - fácil\n",
            "\n",
            "Ingrese su pregunta (o 'salir' para terminar): en que consiste su tfm midas\n",
            "Dificultad clasificada: 0 - fácil\n",
            "\n",
            "Ingrese su pregunta (o 'salir' para terminar): hablame sobre como esta hecho midas architech\n",
            "Dificultad clasificada: 1 - difícil\n",
            "\n",
            "Ingrese su pregunta (o 'salir' para terminar): encajaria marcos para un puesto de liderazgo?\n",
            "Dificultad clasificada: 1 - difícil\n",
            "\n",
            "Ingrese su pregunta (o 'salir' para terminar): dime el sentido de la vida\n",
            "Dificultad clasificada: 2 - no relacionado\n",
            "\n",
            "Ingrese su pregunta (o 'salir' para terminar): salir\n"
          ]
        }
      ]
    },
    {
      "cell_type": "markdown",
      "source": [
        "Estamos listos para integrarlo en nuestro ChatBot-CV."
      ],
      "metadata": {
        "id": "mpP95tVGnWpj"
      }
    }
  ]
}